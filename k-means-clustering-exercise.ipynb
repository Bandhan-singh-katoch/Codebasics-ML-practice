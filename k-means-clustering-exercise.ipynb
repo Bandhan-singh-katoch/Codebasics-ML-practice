{
 "cells": [
  {
   "cell_type": "code",
   "execution_count": 1,
   "id": "19bcbcd7",
   "metadata": {
    "_cell_guid": "b1076dfc-b9ad-4769-8c92-a6c4dae69d19",
    "_uuid": "8f2839f25d086af736a60e9eeb907d3b93b6e0e5",
    "execution": {
     "iopub.execute_input": "2022-04-16T14:57:07.241422Z",
     "iopub.status.busy": "2022-04-16T14:57:07.241026Z",
     "iopub.status.idle": "2022-04-16T14:57:08.713731Z",
     "shell.execute_reply": "2022-04-16T14:57:08.712771Z"
    },
    "papermill": {
     "duration": 1.492268,
     "end_time": "2022-04-16T14:57:08.716313",
     "exception": false,
     "start_time": "2022-04-16T14:57:07.224045",
     "status": "completed"
    },
    "tags": []
   },
   "outputs": [],
   "source": [
    "import pandas as pd\n",
    "from sklearn.datasets import load_iris\n",
    "from matplotlib import pyplot as plt\n",
    "from sklearn.cluster import KMeans\n",
    "from sklearn.preprocessing import MinMaxScaler"
   ]
  },
  {
   "cell_type": "code",
   "execution_count": 2,
   "id": "cc12c6cb",
   "metadata": {
    "execution": {
     "iopub.execute_input": "2022-04-16T14:57:08.745372Z",
     "iopub.status.busy": "2022-04-16T14:57:08.744822Z",
     "iopub.status.idle": "2022-04-16T14:57:08.762988Z",
     "shell.execute_reply": "2022-04-16T14:57:08.762280Z"
    },
    "papermill": {
     "duration": 0.035051,
     "end_time": "2022-04-16T14:57:08.765118",
     "exception": false,
     "start_time": "2022-04-16T14:57:08.730067",
     "status": "completed"
    },
    "tags": []
   },
   "outputs": [
    {
     "data": {
      "text/plain": [
       "['DESCR',\n",
       " 'data',\n",
       " 'data_module',\n",
       " 'feature_names',\n",
       " 'filename',\n",
       " 'frame',\n",
       " 'target',\n",
       " 'target_names']"
      ]
     },
     "execution_count": 2,
     "metadata": {},
     "output_type": "execute_result"
    }
   ],
   "source": [
    "iris = load_iris()\n",
    "dir(iris)"
   ]
  },
  {
   "cell_type": "code",
   "execution_count": 3,
   "id": "2651a34a",
   "metadata": {
    "execution": {
     "iopub.execute_input": "2022-04-16T14:57:08.794380Z",
     "iopub.status.busy": "2022-04-16T14:57:08.794067Z",
     "iopub.status.idle": "2022-04-16T14:57:08.800052Z",
     "shell.execute_reply": "2022-04-16T14:57:08.799216Z"
    },
    "papermill": {
     "duration": 0.02348,
     "end_time": "2022-04-16T14:57:08.802552",
     "exception": false,
     "start_time": "2022-04-16T14:57:08.779072",
     "status": "completed"
    },
    "tags": []
   },
   "outputs": [
    {
     "data": {
      "text/plain": [
       "['sepal length (cm)',\n",
       " 'sepal width (cm)',\n",
       " 'petal length (cm)',\n",
       " 'petal width (cm)']"
      ]
     },
     "execution_count": 3,
     "metadata": {},
     "output_type": "execute_result"
    }
   ],
   "source": [
    "iris.feature_names"
   ]
  },
  {
   "cell_type": "code",
   "execution_count": 4,
   "id": "613ff10a",
   "metadata": {
    "execution": {
     "iopub.execute_input": "2022-04-16T14:57:08.833080Z",
     "iopub.status.busy": "2022-04-16T14:57:08.832659Z",
     "iopub.status.idle": "2022-04-16T14:57:08.856773Z",
     "shell.execute_reply": "2022-04-16T14:57:08.855870Z"
    },
    "papermill": {
     "duration": 0.041918,
     "end_time": "2022-04-16T14:57:08.858851",
     "exception": false,
     "start_time": "2022-04-16T14:57:08.816933",
     "status": "completed"
    },
    "tags": []
   },
   "outputs": [
    {
     "data": {
      "text/html": [
       "<div>\n",
       "<style scoped>\n",
       "    .dataframe tbody tr th:only-of-type {\n",
       "        vertical-align: middle;\n",
       "    }\n",
       "\n",
       "    .dataframe tbody tr th {\n",
       "        vertical-align: top;\n",
       "    }\n",
       "\n",
       "    .dataframe thead th {\n",
       "        text-align: right;\n",
       "    }\n",
       "</style>\n",
       "<table border=\"1\" class=\"dataframe\">\n",
       "  <thead>\n",
       "    <tr style=\"text-align: right;\">\n",
       "      <th></th>\n",
       "      <th>sepal length (cm)</th>\n",
       "      <th>sepal width (cm)</th>\n",
       "      <th>petal length (cm)</th>\n",
       "      <th>petal width (cm)</th>\n",
       "    </tr>\n",
       "  </thead>\n",
       "  <tbody>\n",
       "    <tr>\n",
       "      <th>0</th>\n",
       "      <td>5.1</td>\n",
       "      <td>3.5</td>\n",
       "      <td>1.4</td>\n",
       "      <td>0.2</td>\n",
       "    </tr>\n",
       "    <tr>\n",
       "      <th>1</th>\n",
       "      <td>4.9</td>\n",
       "      <td>3.0</td>\n",
       "      <td>1.4</td>\n",
       "      <td>0.2</td>\n",
       "    </tr>\n",
       "    <tr>\n",
       "      <th>2</th>\n",
       "      <td>4.7</td>\n",
       "      <td>3.2</td>\n",
       "      <td>1.3</td>\n",
       "      <td>0.2</td>\n",
       "    </tr>\n",
       "    <tr>\n",
       "      <th>3</th>\n",
       "      <td>4.6</td>\n",
       "      <td>3.1</td>\n",
       "      <td>1.5</td>\n",
       "      <td>0.2</td>\n",
       "    </tr>\n",
       "    <tr>\n",
       "      <th>4</th>\n",
       "      <td>5.0</td>\n",
       "      <td>3.6</td>\n",
       "      <td>1.4</td>\n",
       "      <td>0.2</td>\n",
       "    </tr>\n",
       "  </tbody>\n",
       "</table>\n",
       "</div>"
      ],
      "text/plain": [
       "   sepal length (cm)  sepal width (cm)  petal length (cm)  petal width (cm)\n",
       "0                5.1               3.5                1.4               0.2\n",
       "1                4.9               3.0                1.4               0.2\n",
       "2                4.7               3.2                1.3               0.2\n",
       "3                4.6               3.1                1.5               0.2\n",
       "4                5.0               3.6                1.4               0.2"
      ]
     },
     "execution_count": 4,
     "metadata": {},
     "output_type": "execute_result"
    }
   ],
   "source": [
    "df = pd.DataFrame(iris.data, columns=iris.feature_names)\n",
    "df.head()"
   ]
  },
  {
   "cell_type": "code",
   "execution_count": 5,
   "id": "1ce8a226",
   "metadata": {
    "execution": {
     "iopub.execute_input": "2022-04-16T14:57:08.889711Z",
     "iopub.status.busy": "2022-04-16T14:57:08.889254Z",
     "iopub.status.idle": "2022-04-16T14:57:08.905750Z",
     "shell.execute_reply": "2022-04-16T14:57:08.904947Z"
    },
    "papermill": {
     "duration": 0.03427,
     "end_time": "2022-04-16T14:57:08.907728",
     "exception": false,
     "start_time": "2022-04-16T14:57:08.873458",
     "status": "completed"
    },
    "tags": []
   },
   "outputs": [
    {
     "data": {
      "text/html": [
       "<div>\n",
       "<style scoped>\n",
       "    .dataframe tbody tr th:only-of-type {\n",
       "        vertical-align: middle;\n",
       "    }\n",
       "\n",
       "    .dataframe tbody tr th {\n",
       "        vertical-align: top;\n",
       "    }\n",
       "\n",
       "    .dataframe thead th {\n",
       "        text-align: right;\n",
       "    }\n",
       "</style>\n",
       "<table border=\"1\" class=\"dataframe\">\n",
       "  <thead>\n",
       "    <tr style=\"text-align: right;\">\n",
       "      <th></th>\n",
       "      <th>petal length (cm)</th>\n",
       "      <th>petal width (cm)</th>\n",
       "    </tr>\n",
       "  </thead>\n",
       "  <tbody>\n",
       "    <tr>\n",
       "      <th>0</th>\n",
       "      <td>1.4</td>\n",
       "      <td>0.2</td>\n",
       "    </tr>\n",
       "    <tr>\n",
       "      <th>1</th>\n",
       "      <td>1.4</td>\n",
       "      <td>0.2</td>\n",
       "    </tr>\n",
       "    <tr>\n",
       "      <th>2</th>\n",
       "      <td>1.3</td>\n",
       "      <td>0.2</td>\n",
       "    </tr>\n",
       "    <tr>\n",
       "      <th>3</th>\n",
       "      <td>1.5</td>\n",
       "      <td>0.2</td>\n",
       "    </tr>\n",
       "    <tr>\n",
       "      <th>4</th>\n",
       "      <td>1.4</td>\n",
       "      <td>0.2</td>\n",
       "    </tr>\n",
       "  </tbody>\n",
       "</table>\n",
       "</div>"
      ],
      "text/plain": [
       "   petal length (cm)  petal width (cm)\n",
       "0                1.4               0.2\n",
       "1                1.4               0.2\n",
       "2                1.3               0.2\n",
       "3                1.5               0.2\n",
       "4                1.4               0.2"
      ]
     },
     "execution_count": 5,
     "metadata": {},
     "output_type": "execute_result"
    }
   ],
   "source": [
    "df = df.drop([\"sepal length (cm)\", \"sepal width (cm)\"], axis='columns')\n",
    "df.head()"
   ]
  },
  {
   "cell_type": "code",
   "execution_count": 6,
   "id": "ec243718",
   "metadata": {
    "execution": {
     "iopub.execute_input": "2022-04-16T14:57:08.939768Z",
     "iopub.status.busy": "2022-04-16T14:57:08.939303Z",
     "iopub.status.idle": "2022-04-16T14:57:09.146170Z",
     "shell.execute_reply": "2022-04-16T14:57:09.145366Z"
    },
    "papermill": {
     "duration": 0.225563,
     "end_time": "2022-04-16T14:57:09.148285",
     "exception": false,
     "start_time": "2022-04-16T14:57:08.922722",
     "status": "completed"
    },
    "tags": []
   },
   "outputs": [
    {
     "data": {
      "text/plain": [
       "<matplotlib.collections.PathCollection at 0x7f43395ce590>"
      ]
     },
     "execution_count": 6,
     "metadata": {},
     "output_type": "execute_result"
    },
    {
     "data": {
      "image/png": "[encoded data removed]",
      "text/plain": [
       "<Figure size 432x288 with 1 Axes>"
      ]
     },
     "metadata": {
      "needs_background": "light"
     },
     "output_type": "display_data"
    }
   ],
   "source": [
    "plt.scatter(df[\"petal length (cm)\"], df[\"petal width (cm)\"])"
   ]
  },
  {
   "cell_type": "code",
   "execution_count": 7,
   "id": "537865cb",
   "metadata": {
    "execution": {
     "iopub.execute_input": "2022-04-16T14:57:09.183118Z",
     "iopub.status.busy": "2022-04-16T14:57:09.182795Z",
     "iopub.status.idle": "2022-04-16T14:57:09.587958Z",
     "shell.execute_reply": "2022-04-16T14:57:09.587046Z"
    },
    "papermill": {
     "duration": 0.42522,
     "end_time": "2022-04-16T14:57:09.590351",
     "exception": false,
     "start_time": "2022-04-16T14:57:09.165131",
     "status": "completed"
    },
    "tags": []
   },
   "outputs": [],
   "source": [
    "k_range = range(1,10)\n",
    "sse = []\n",
    "\n",
    "for k in k_range:\n",
    "    km = KMeans(k)\n",
    "    km.fit(df[[\"petal length (cm)\", \"petal width (cm)\"]])\n",
    "    sse.append(km.inertia_)"
   ]
  },
  {
   "cell_type": "code",
   "execution_count": 8,
   "id": "72993364",
   "metadata": {
    "execution": {
     "iopub.execute_input": "2022-04-16T14:57:09.627146Z",
     "iopub.status.busy": "2022-04-16T14:57:09.626137Z",
     "iopub.status.idle": "2022-04-16T14:57:09.827629Z",
     "shell.execute_reply": "2022-04-16T14:57:09.826783Z"
    },
    "papermill": {
     "duration": 0.221235,
     "end_time": "2022-04-16T14:57:09.829853",
     "exception": false,
     "start_time": "2022-04-16T14:57:09.608618",
     "status": "completed"
    },
    "tags": []
   },
   "outputs": [
    {
     "data": {
      "text/plain": [
       "[<matplotlib.lines.Line2D at 0x7f43557c1790>]"
      ]
     },
     "execution_count": 8,
     "metadata": {},
     "output_type": "execute_result"
    },
    {
     "data": {
      "image/png": "[encoded data removed]",
      "text/plain": [
       "<Figure size 432x288 with 1 Axes>"
      ]
     },
     "metadata": {
      "needs_background": "light"
     },
     "output_type": "display_data"
    }
   ],
   "source": [
    "plt.plot(k_range, sse)"
   ]
  },
  {
   "cell_type": "code",
   "execution_count": 9,
   "id": "2621e1bf",
   "metadata": {
    "execution": {
     "iopub.execute_input": "2022-04-16T14:57:09.867209Z",
     "iopub.status.busy": "2022-04-16T14:57:09.866912Z",
     "iopub.status.idle": "2022-04-16T14:57:09.895523Z",
     "shell.execute_reply": "2022-04-16T14:57:09.894792Z"
    },
    "papermill": {
     "duration": 0.049829,
     "end_time": "2022-04-16T14:57:09.897628",
     "exception": false,
     "start_time": "2022-04-16T14:57:09.847799",
     "status": "completed"
    },
    "tags": []
   },
   "outputs": [],
   "source": [
    "# On analyzing the above graph, the clusters required are 3\n",
    "\n",
    "km = KMeans(n_clusters=3)\n",
    "y_pred = km.fit_predict(df[[\"petal length (cm)\", \"petal width (cm)\"]])"
   ]
  },
  {
   "cell_type": "code",
   "execution_count": 10,
   "id": "1e082fd5",
   "metadata": {
    "execution": {
     "iopub.execute_input": "2022-04-16T14:57:09.936352Z",
     "iopub.status.busy": "2022-04-16T14:57:09.936044Z",
     "iopub.status.idle": "2022-04-16T14:57:09.948051Z",
     "shell.execute_reply": "2022-04-16T14:57:09.947268Z"
    },
    "papermill": {
     "duration": 0.032725,
     "end_time": "2022-04-16T14:57:09.950008",
     "exception": false,
     "start_time": "2022-04-16T14:57:09.917283",
     "status": "completed"
    },
    "tags": []
   },
   "outputs": [
    {
     "data": {
      "text/html": [
       "<div>\n",
       "<style scoped>\n",
       "    .dataframe tbody tr th:only-of-type {\n",
       "        vertical-align: middle;\n",
       "    }\n",
       "\n",
       "    .dataframe tbody tr th {\n",
       "        vertical-align: top;\n",
       "    }\n",
       "\n",
       "    .dataframe thead th {\n",
       "        text-align: right;\n",
       "    }\n",
       "</style>\n",
       "<table border=\"1\" class=\"dataframe\">\n",
       "  <thead>\n",
       "    <tr style=\"text-align: right;\">\n",
       "      <th></th>\n",
       "      <th>petal length (cm)</th>\n",
       "      <th>petal width (cm)</th>\n",
       "      <th>cluster</th>\n",
       "    </tr>\n",
       "  </thead>\n",
       "  <tbody>\n",
       "    <tr>\n",
       "      <th>0</th>\n",
       "      <td>1.4</td>\n",
       "      <td>0.2</td>\n",
       "      <td>1</td>\n",
       "    </tr>\n",
       "    <tr>\n",
       "      <th>1</th>\n",
       "      <td>1.4</td>\n",
       "      <td>0.2</td>\n",
       "      <td>1</td>\n",
       "    </tr>\n",
       "    <tr>\n",
       "      <th>2</th>\n",
       "      <td>1.3</td>\n",
       "      <td>0.2</td>\n",
       "      <td>1</td>\n",
       "    </tr>\n",
       "    <tr>\n",
       "      <th>3</th>\n",
       "      <td>1.5</td>\n",
       "      <td>0.2</td>\n",
       "      <td>1</td>\n",
       "    </tr>\n",
       "    <tr>\n",
       "      <th>4</th>\n",
       "      <td>1.4</td>\n",
       "      <td>0.2</td>\n",
       "      <td>1</td>\n",
       "    </tr>\n",
       "  </tbody>\n",
       "</table>\n",
       "</div>"
      ],
      "text/plain": [
       "   petal length (cm)  petal width (cm)  cluster\n",
       "0                1.4               0.2        1\n",
       "1                1.4               0.2        1\n",
       "2                1.3               0.2        1\n",
       "3                1.5               0.2        1\n",
       "4                1.4               0.2        1"
      ]
     },
     "execution_count": 10,
     "metadata": {},
     "output_type": "execute_result"
    }
   ],
   "source": [
    "df['cluster'] = y_pred\n",
    "df.head()"
   ]
  },
  {
   "cell_type": "code",
   "execution_count": 11,
   "id": "cf1864ad",
   "metadata": {
    "execution": {
     "iopub.execute_input": "2022-04-16T14:57:09.987613Z",
     "iopub.status.busy": "2022-04-16T14:57:09.987284Z",
     "iopub.status.idle": "2022-04-16T14:57:09.993293Z",
     "shell.execute_reply": "2022-04-16T14:57:09.992735Z"
    },
    "papermill": {
     "duration": 0.026878,
     "end_time": "2022-04-16T14:57:09.995010",
     "exception": false,
     "start_time": "2022-04-16T14:57:09.968132",
     "status": "completed"
    },
    "tags": []
   },
   "outputs": [
    {
     "data": {
      "text/plain": [
       "array([1, 2, 0], dtype=int32)"
      ]
     },
     "execution_count": 11,
     "metadata": {},
     "output_type": "execute_result"
    }
   ],
   "source": [
    "df.cluster.unique()"
   ]
  },
  {
   "cell_type": "code",
   "execution_count": 12,
   "id": "7071ad97",
   "metadata": {
    "execution": {
     "iopub.execute_input": "2022-04-16T14:57:10.034421Z",
     "iopub.status.busy": "2022-04-16T14:57:10.034099Z",
     "iopub.status.idle": "2022-04-16T14:57:10.269589Z",
     "shell.execute_reply": "2022-04-16T14:57:10.268769Z"
    },
    "papermill": {
     "duration": 0.257584,
     "end_time": "2022-04-16T14:57:10.271697",
     "exception": false,
     "start_time": "2022-04-16T14:57:10.014113",
     "status": "completed"
    },
    "tags": []
   },
   "outputs": [
    {
     "data": {
      "text/plain": [
       "<matplotlib.collections.PathCollection at 0x7f4354f0f550>"
      ]
     },
     "execution_count": 12,
     "metadata": {},
     "output_type": "execute_result"
    },
    {
     "data": {
      "image/png": "[encoded data removed]",
      "text/plain": [
       "<Figure size 432x288 with 1 Axes>"
      ]
     },
     "metadata": {
      "needs_background": "light"
     },
     "output_type": "display_data"
    }
   ],
   "source": [
    "# Plotting the cluster graph\n",
    "df1 = df[df.cluster == 0]\n",
    "df2 = df[df.cluster == 1]\n",
    "df3 = df[df.cluster == 2]\n",
    "\n",
    "plt.scatter(df1[\"petal length (cm)\"], df1[\"petal width (cm)\"], color='red')\n",
    "plt.scatter(df2[\"petal length (cm)\"], df2[\"petal width (cm)\"], color='green')\n",
    "plt.scatter(df3[\"petal length (cm)\"], df3[\"petal width (cm)\"], color='blue')"
   ]
  }
 ],
 "metadata": {
  "kernelspec": {
   "display_name": "Python 3",
   "language": "python",
   "name": "python3"
  },
  "language_info": {
   "codemirror_mode": {
    "name": "ipython",
    "version": 3
   },
   "file_extension": ".py",
   "mimetype": "text/x-python",
   "name": "python",
   "nbconvert_exporter": "python",
   "pygments_lexer": "ipython3",
   "version": "3.7.12"
  },
  "papermill": {
   "default_parameters": {},
   "duration": 13.504361,
   "end_time": "2022-04-16T14:57:11.114590",
   "environment_variables": {},
   "exception": null,
   "input_path": "__notebook__.ipynb",
   "output_path": "__notebook__.ipynb",
   "parameters": {},
   "start_time": "2022-04-16T14:56:57.610229",
   "version": "2.3.4"
  }
 },
 "nbformat": 4,
 "nbformat_minor": 5
}

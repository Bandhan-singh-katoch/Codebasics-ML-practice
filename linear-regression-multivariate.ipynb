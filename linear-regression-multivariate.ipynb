{
 "cells": [
  {
   "cell_type": "markdown",
   "id": "8c37af96",
   "metadata": {
    "papermill": {
     "duration": 0.012883,
     "end_time": "2022-02-22T18:26:20.448139",
     "exception": false,
     "start_time": "2022-02-22T18:26:20.435256",
     "status": "completed"
    },
    "tags": []
   },
   "source": [
    "**Given these home prices find out price of a home that has,**\n",
    "\n",
    "**3000 sqr ft area, 3 bedrooms, 40 year old**\n",
    "  \n",
    "**2500 sqr ft area, 4 bedrooms, 5 year old**"
   ]
  },
  {
   "cell_type": "code",
   "execution_count": 1,
   "id": "0dbba37d",
   "metadata": {
    "_cell_guid": "b1076dfc-b9ad-4769-8c92-a6c4dae69d19",
    "_uuid": "8f2839f25d086af736a60e9eeb907d3b93b6e0e5",
    "execution": {
     "iopub.execute_input": "2022-02-22T18:26:20.482375Z",
     "iopub.status.busy": "2022-02-22T18:26:20.481751Z",
     "iopub.status.idle": "2022-02-22T18:26:21.646506Z",
     "shell.execute_reply": "2022-02-22T18:26:21.645715Z",
     "shell.execute_reply.started": "2022-02-22T18:24:40.834021Z"
    },
    "papermill": {
     "duration": 1.187471,
     "end_time": "2022-02-22T18:26:21.646688",
     "exception": false,
     "start_time": "2022-02-22T18:26:20.459217",
     "status": "completed"
    },
    "tags": []
   },
   "outputs": [],
   "source": [
    "import numpy as np\n",
    "import pandas as pd\n",
    "from sklearn import linear_model"
   ]
  },
  {
   "cell_type": "code",
   "execution_count": 2,
   "id": "aa7c990a",
   "metadata": {
    "execution": {
     "iopub.execute_input": "2022-02-22T18:26:21.673570Z",
     "iopub.status.busy": "2022-02-22T18:26:21.672875Z",
     "iopub.status.idle": "2022-02-22T18:26:21.701720Z",
     "shell.execute_reply": "2022-02-22T18:26:21.702231Z",
     "shell.execute_reply.started": "2022-02-22T18:24:40.853662Z"
    },
    "papermill": {
     "duration": 0.044877,
     "end_time": "2022-02-22T18:26:21.702392",
     "exception": false,
     "start_time": "2022-02-22T18:26:21.657515",
     "status": "completed"
    },
    "tags": []
   },
   "outputs": [
    {
     "data": {
      "text/html": [
       "<div>\n",
       "<style scoped>\n",
       "    .dataframe tbody tr th:only-of-type {\n",
       "        vertical-align: middle;\n",
       "    }\n",
       "\n",
       "    .dataframe tbody tr th {\n",
       "        vertical-align: top;\n",
       "    }\n",
       "\n",
       "    .dataframe thead th {\n",
       "        text-align: right;\n",
       "    }\n",
       "</style>\n",
       "<table border=\"1\" class=\"dataframe\">\n",
       "  <thead>\n",
       "    <tr style=\"text-align: right;\">\n",
       "      <th></th>\n",
       "      <th>area</th>\n",
       "      <th>bedrooms</th>\n",
       "      <th>age</th>\n",
       "      <th>price</th>\n",
       "    </tr>\n",
       "  </thead>\n",
       "  <tbody>\n",
       "    <tr>\n",
       "      <th>0</th>\n",
       "      <td>2600</td>\n",
       "      <td>3.0</td>\n",
       "      <td>20</td>\n",
       "      <td>550000</td>\n",
       "    </tr>\n",
       "    <tr>\n",
       "      <th>1</th>\n",
       "      <td>3000</td>\n",
       "      <td>4.0</td>\n",
       "      <td>15</td>\n",
       "      <td>565000</td>\n",
       "    </tr>\n",
       "    <tr>\n",
       "      <th>2</th>\n",
       "      <td>3200</td>\n",
       "      <td>NaN</td>\n",
       "      <td>18</td>\n",
       "      <td>610000</td>\n",
       "    </tr>\n",
       "    <tr>\n",
       "      <th>3</th>\n",
       "      <td>3600</td>\n",
       "      <td>3.0</td>\n",
       "      <td>30</td>\n",
       "      <td>595000</td>\n",
       "    </tr>\n",
       "    <tr>\n",
       "      <th>4</th>\n",
       "      <td>4000</td>\n",
       "      <td>5.0</td>\n",
       "      <td>8</td>\n",
       "      <td>760000</td>\n",
       "    </tr>\n",
       "    <tr>\n",
       "      <th>5</th>\n",
       "      <td>4100</td>\n",
       "      <td>6.0</td>\n",
       "      <td>8</td>\n",
       "      <td>810000</td>\n",
       "    </tr>\n",
       "  </tbody>\n",
       "</table>\n",
       "</div>"
      ],
      "text/plain": [
       "   area  bedrooms  age   price\n",
       "0  2600       3.0   20  550000\n",
       "1  3000       4.0   15  565000\n",
       "2  3200       NaN   18  610000\n",
       "3  3600       3.0   30  595000\n",
       "4  4000       5.0    8  760000\n",
       "5  4100       6.0    8  810000"
      ]
     },
     "execution_count": 2,
     "metadata": {},
     "output_type": "execute_result"
    }
   ],
   "source": [
    "df = pd.read_csv(\"../input/homeprices-multivariate/homeprices.csv\")\n",
    "df"
   ]
  },
  {
   "cell_type": "code",
   "execution_count": 3,
   "id": "71c283a6",
   "metadata": {
    "execution": {
     "iopub.execute_input": "2022-02-22T18:26:21.738971Z",
     "iopub.status.busy": "2022-02-22T18:26:21.732997Z",
     "iopub.status.idle": "2022-02-22T18:26:21.742229Z",
     "shell.execute_reply": "2022-02-22T18:26:21.742816Z",
     "shell.execute_reply.started": "2022-02-22T18:24:40.875301Z"
    },
    "papermill": {
     "duration": 0.028895,
     "end_time": "2022-02-22T18:26:21.742969",
     "exception": false,
     "start_time": "2022-02-22T18:26:21.714074",
     "status": "completed"
    },
    "tags": []
   },
   "outputs": [
    {
     "data": {
      "text/html": [
       "<div>\n",
       "<style scoped>\n",
       "    .dataframe tbody tr th:only-of-type {\n",
       "        vertical-align: middle;\n",
       "    }\n",
       "\n",
       "    .dataframe tbody tr th {\n",
       "        vertical-align: top;\n",
       "    }\n",
       "\n",
       "    .dataframe thead th {\n",
       "        text-align: right;\n",
       "    }\n",
       "</style>\n",
       "<table border=\"1\" class=\"dataframe\">\n",
       "  <thead>\n",
       "    <tr style=\"text-align: right;\">\n",
       "      <th></th>\n",
       "      <th>area</th>\n",
       "      <th>bedrooms</th>\n",
       "      <th>age</th>\n",
       "      <th>price</th>\n",
       "    </tr>\n",
       "  </thead>\n",
       "  <tbody>\n",
       "    <tr>\n",
       "      <th>0</th>\n",
       "      <td>2600</td>\n",
       "      <td>3.0</td>\n",
       "      <td>20</td>\n",
       "      <td>550000</td>\n",
       "    </tr>\n",
       "    <tr>\n",
       "      <th>1</th>\n",
       "      <td>3000</td>\n",
       "      <td>4.0</td>\n",
       "      <td>15</td>\n",
       "      <td>565000</td>\n",
       "    </tr>\n",
       "    <tr>\n",
       "      <th>2</th>\n",
       "      <td>3200</td>\n",
       "      <td>4.0</td>\n",
       "      <td>18</td>\n",
       "      <td>610000</td>\n",
       "    </tr>\n",
       "    <tr>\n",
       "      <th>3</th>\n",
       "      <td>3600</td>\n",
       "      <td>3.0</td>\n",
       "      <td>30</td>\n",
       "      <td>595000</td>\n",
       "    </tr>\n",
       "    <tr>\n",
       "      <th>4</th>\n",
       "      <td>4000</td>\n",
       "      <td>5.0</td>\n",
       "      <td>8</td>\n",
       "      <td>760000</td>\n",
       "    </tr>\n",
       "    <tr>\n",
       "      <th>5</th>\n",
       "      <td>4100</td>\n",
       "      <td>6.0</td>\n",
       "      <td>8</td>\n",
       "      <td>810000</td>\n",
       "    </tr>\n",
       "  </tbody>\n",
       "</table>\n",
       "</div>"
      ],
      "text/plain": [
       "   area  bedrooms  age   price\n",
       "0  2600       3.0   20  550000\n",
       "1  3000       4.0   15  565000\n",
       "2  3200       4.0   18  610000\n",
       "3  3600       3.0   30  595000\n",
       "4  4000       5.0    8  760000\n",
       "5  4100       6.0    8  810000"
      ]
     },
     "execution_count": 3,
     "metadata": {},
     "output_type": "execute_result"
    }
   ],
   "source": [
    "#preprocessing of dataset\n",
    "df.bedrooms = df.bedrooms.fillna(df.bedrooms.median())\n",
    "df"
   ]
  },
  {
   "cell_type": "code",
   "execution_count": 4,
   "id": "7d6a20e2",
   "metadata": {
    "execution": {
     "iopub.execute_input": "2022-02-22T18:26:21.771302Z",
     "iopub.status.busy": "2022-02-22T18:26:21.770301Z",
     "iopub.status.idle": "2022-02-22T18:26:21.802775Z",
     "shell.execute_reply": "2022-02-22T18:26:21.802138Z",
     "shell.execute_reply.started": "2022-02-22T18:24:40.888411Z"
    },
    "papermill": {
     "duration": 0.047931,
     "end_time": "2022-02-22T18:26:21.802905",
     "exception": false,
     "start_time": "2022-02-22T18:26:21.754974",
     "status": "completed"
    },
    "tags": []
   },
   "outputs": [
    {
     "data": {
      "text/plain": [
       "LinearRegression()"
      ]
     },
     "execution_count": 4,
     "metadata": {},
     "output_type": "execute_result"
    }
   ],
   "source": [
    "reg = linear_model.LinearRegression()\n",
    "reg.fit(df[['area','bedrooms', 'age']], df.price)"
   ]
  },
  {
   "cell_type": "code",
   "execution_count": 5,
   "id": "2fec3b4c",
   "metadata": {
    "execution": {
     "iopub.execute_input": "2022-02-22T18:26:21.833562Z",
     "iopub.status.busy": "2022-02-22T18:26:21.832886Z",
     "iopub.status.idle": "2022-02-22T18:26:21.835385Z",
     "shell.execute_reply": "2022-02-22T18:26:21.835850Z",
     "shell.execute_reply.started": "2022-02-22T18:24:40.902864Z"
    },
    "papermill": {
     "duration": 0.02064,
     "end_time": "2022-02-22T18:26:21.836008",
     "exception": false,
     "start_time": "2022-02-22T18:26:21.815368",
     "status": "completed"
    },
    "tags": []
   },
   "outputs": [
    {
     "data": {
      "text/plain": [
       "array([  112.06244194, 23388.88007794, -3231.71790863])"
      ]
     },
     "execution_count": 5,
     "metadata": {},
     "output_type": "execute_result"
    }
   ],
   "source": [
    "reg.coef_"
   ]
  },
  {
   "cell_type": "code",
   "execution_count": 6,
   "id": "f182b9d6",
   "metadata": {
    "execution": {
     "iopub.execute_input": "2022-02-22T18:26:21.864388Z",
     "iopub.status.busy": "2022-02-22T18:26:21.863767Z",
     "iopub.status.idle": "2022-02-22T18:26:21.867946Z",
     "shell.execute_reply": "2022-02-22T18:26:21.868392Z",
     "shell.execute_reply.started": "2022-02-22T18:24:40.923116Z"
    },
    "papermill": {
     "duration": 0.01984,
     "end_time": "2022-02-22T18:26:21.868555",
     "exception": false,
     "start_time": "2022-02-22T18:26:21.848715",
     "status": "completed"
    },
    "tags": []
   },
   "outputs": [
    {
     "data": {
      "text/plain": [
       "221323.00186540396"
      ]
     },
     "execution_count": 6,
     "metadata": {},
     "output_type": "execute_result"
    }
   ],
   "source": [
    "reg.intercept_"
   ]
  },
  {
   "cell_type": "code",
   "execution_count": 7,
   "id": "f993bf1a",
   "metadata": {
    "execution": {
     "iopub.execute_input": "2022-02-22T18:26:21.900340Z",
     "iopub.status.busy": "2022-02-22T18:26:21.897122Z",
     "iopub.status.idle": "2022-02-22T18:26:21.903089Z",
     "shell.execute_reply": "2022-02-22T18:26:21.903584Z",
     "shell.execute_reply.started": "2022-02-22T18:24:40.953265Z"
    },
    "papermill": {
     "duration": 0.022103,
     "end_time": "2022-02-22T18:26:21.903741",
     "exception": false,
     "start_time": "2022-02-22T18:26:21.881638",
     "status": "completed"
    },
    "tags": []
   },
   "outputs": [
    {
     "data": {
      "text/plain": [
       "array([498408.25158031])"
      ]
     },
     "execution_count": 7,
     "metadata": {},
     "output_type": "execute_result"
    }
   ],
   "source": [
    "#3000 sqr ft area, 3 bedrooms, 40 year old\n",
    "reg.predict([[3000, 3, 40]])"
   ]
  },
  {
   "cell_type": "code",
   "execution_count": 8,
   "id": "aba34f99",
   "metadata": {
    "execution": {
     "iopub.execute_input": "2022-02-22T18:26:21.936914Z",
     "iopub.status.busy": "2022-02-22T18:26:21.936043Z",
     "iopub.status.idle": "2022-02-22T18:26:21.939706Z",
     "shell.execute_reply": "2022-02-22T18:26:21.939053Z",
     "shell.execute_reply.started": "2022-02-22T18:24:40.972859Z"
    },
    "papermill": {
     "duration": 0.022509,
     "end_time": "2022-02-22T18:26:21.939839",
     "exception": false,
     "start_time": "2022-02-22T18:26:21.917330",
     "status": "completed"
    },
    "tags": []
   },
   "outputs": [
    {
     "data": {
      "text/plain": [
       "498408.251574024"
      ]
     },
     "execution_count": 8,
     "metadata": {},
     "output_type": "execute_result"
    }
   ],
   "source": [
    "#Above proof\n",
    "\n",
    "(112.06244194*3000) + (23388.88007794*3) + (-3231.71790863*40) + 221323.00186540396"
   ]
  },
  {
   "cell_type": "code",
   "execution_count": 9,
   "id": "db924a8b",
   "metadata": {
    "execution": {
     "iopub.execute_input": "2022-02-22T18:26:21.974169Z",
     "iopub.status.busy": "2022-02-22T18:26:21.973288Z",
     "iopub.status.idle": "2022-02-22T18:26:21.976589Z",
     "shell.execute_reply": "2022-02-22T18:26:21.977063Z",
     "shell.execute_reply.started": "2022-02-22T18:25:02.648282Z"
    },
    "papermill": {
     "duration": 0.023469,
     "end_time": "2022-02-22T18:26:21.977268",
     "exception": false,
     "start_time": "2022-02-22T18:26:21.953799",
     "status": "completed"
    },
    "tags": []
   },
   "outputs": [
    {
     "data": {
      "text/plain": [
       "array([578876.03748933])"
      ]
     },
     "execution_count": 9,
     "metadata": {},
     "output_type": "execute_result"
    }
   ],
   "source": [
    "# 2500 sqr ft area, 4 bedrooms, 5 year old\n",
    "reg.predict([[2500,4,5]])"
   ]
  }
 ],
 "metadata": {
  "kernelspec": {
   "display_name": "Python 3",
   "language": "python",
   "name": "python3"
  },
  "language_info": {
   "codemirror_mode": {
    "name": "ipython",
    "version": 3
   },
   "file_extension": ".py",
   "mimetype": "text/x-python",
   "name": "python",
   "nbconvert_exporter": "python",
   "pygments_lexer": "ipython3",
   "version": "3.7.12"
  },
  "papermill": {
   "default_parameters": {},
   "duration": 11.777647,
   "end_time": "2022-02-22T18:26:22.702026",
   "environment_variables": {},
   "exception": null,
   "input_path": "__notebook__.ipynb",
   "output_path": "__notebook__.ipynb",
   "parameters": {},
   "start_time": "2022-02-22T18:26:10.924379",
   "version": "2.3.3"
  }
 },
 "nbformat": 4,
 "nbformat_minor": 5
}

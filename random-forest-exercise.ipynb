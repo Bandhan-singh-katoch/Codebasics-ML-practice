{
 "cells": [
  {
   "cell_type": "code",
   "execution_count": 1,
   "id": "3da2fdf9",
   "metadata": {
    "_cell_guid": "b1076dfc-b9ad-4769-8c92-a6c4dae69d19",
    "_uuid": "8f2839f25d086af736a60e9eeb907d3b93b6e0e5",
    "execution": {
     "iopub.execute_input": "2022-03-31T07:08:14.979771Z",
     "iopub.status.busy": "2022-03-31T07:08:14.978559Z",
     "iopub.status.idle": "2022-03-31T07:08:16.141305Z",
     "shell.execute_reply": "2022-03-31T07:08:16.140540Z",
     "shell.execute_reply.started": "2022-03-31T07:06:37.606874Z"
    },
    "papermill": {
     "duration": 1.178713,
     "end_time": "2022-03-31T07:08:16.141482",
     "exception": false,
     "start_time": "2022-03-31T07:08:14.962769",
     "status": "completed"
    },
    "tags": []
   },
   "outputs": [],
   "source": [
    "import pandas as pd\n",
    "from sklearn.datasets import load_iris\n",
    "iris = load_iris()"
   ]
  },
  {
   "cell_type": "code",
   "execution_count": 2,
   "id": "34de7bda",
   "metadata": {
    "execution": {
     "iopub.execute_input": "2022-03-31T07:08:16.176269Z",
     "iopub.status.busy": "2022-03-31T07:08:16.175441Z",
     "iopub.status.idle": "2022-03-31T07:08:16.179515Z",
     "shell.execute_reply": "2022-03-31T07:08:16.180005Z",
     "shell.execute_reply.started": "2022-03-31T07:06:37.702183Z"
    },
    "papermill": {
     "duration": 0.024374,
     "end_time": "2022-03-31T07:08:16.180180",
     "exception": false,
     "start_time": "2022-03-31T07:08:16.155806",
     "status": "completed"
    },
    "tags": []
   },
   "outputs": [
    {
     "data": {
      "text/plain": [
       "['DESCR',\n",
       " 'data',\n",
       " 'data_module',\n",
       " 'feature_names',\n",
       " 'filename',\n",
       " 'frame',\n",
       " 'target',\n",
       " 'target_names']"
      ]
     },
     "execution_count": 2,
     "metadata": {},
     "output_type": "execute_result"
    }
   ],
   "source": [
    "dir(iris)"
   ]
  },
  {
   "cell_type": "code",
   "execution_count": 3,
   "id": "6d6f89e3",
   "metadata": {
    "execution": {
     "iopub.execute_input": "2022-03-31T07:08:16.214195Z",
     "iopub.status.busy": "2022-03-31T07:08:16.207096Z",
     "iopub.status.idle": "2022-03-31T07:08:16.231346Z",
     "shell.execute_reply": "2022-03-31T07:08:16.230783Z",
     "shell.execute_reply.started": "2022-03-31T07:06:37.795450Z"
    },
    "papermill": {
     "duration": 0.039339,
     "end_time": "2022-03-31T07:08:16.231494",
     "exception": false,
     "start_time": "2022-03-31T07:08:16.192155",
     "status": "completed"
    },
    "tags": []
   },
   "outputs": [
    {
     "data": {
      "text/html": [
       "<div>\n",
       "<style scoped>\n",
       "    .dataframe tbody tr th:only-of-type {\n",
       "        vertical-align: middle;\n",
       "    }\n",
       "\n",
       "    .dataframe tbody tr th {\n",
       "        vertical-align: top;\n",
       "    }\n",
       "\n",
       "    .dataframe thead th {\n",
       "        text-align: right;\n",
       "    }\n",
       "</style>\n",
       "<table border=\"1\" class=\"dataframe\">\n",
       "  <thead>\n",
       "    <tr style=\"text-align: right;\">\n",
       "      <th></th>\n",
       "      <th>sepal length (cm)</th>\n",
       "      <th>sepal width (cm)</th>\n",
       "      <th>petal length (cm)</th>\n",
       "      <th>petal width (cm)</th>\n",
       "    </tr>\n",
       "  </thead>\n",
       "  <tbody>\n",
       "    <tr>\n",
       "      <th>0</th>\n",
       "      <td>5.1</td>\n",
       "      <td>3.5</td>\n",
       "      <td>1.4</td>\n",
       "      <td>0.2</td>\n",
       "    </tr>\n",
       "    <tr>\n",
       "      <th>1</th>\n",
       "      <td>4.9</td>\n",
       "      <td>3.0</td>\n",
       "      <td>1.4</td>\n",
       "      <td>0.2</td>\n",
       "    </tr>\n",
       "    <tr>\n",
       "      <th>2</th>\n",
       "      <td>4.7</td>\n",
       "      <td>3.2</td>\n",
       "      <td>1.3</td>\n",
       "      <td>0.2</td>\n",
       "    </tr>\n",
       "    <tr>\n",
       "      <th>3</th>\n",
       "      <td>4.6</td>\n",
       "      <td>3.1</td>\n",
       "      <td>1.5</td>\n",
       "      <td>0.2</td>\n",
       "    </tr>\n",
       "    <tr>\n",
       "      <th>4</th>\n",
       "      <td>5.0</td>\n",
       "      <td>3.6</td>\n",
       "      <td>1.4</td>\n",
       "      <td>0.2</td>\n",
       "    </tr>\n",
       "  </tbody>\n",
       "</table>\n",
       "</div>"
      ],
      "text/plain": [
       "   sepal length (cm)  sepal width (cm)  petal length (cm)  petal width (cm)\n",
       "0                5.1               3.5                1.4               0.2\n",
       "1                4.9               3.0                1.4               0.2\n",
       "2                4.7               3.2                1.3               0.2\n",
       "3                4.6               3.1                1.5               0.2\n",
       "4                5.0               3.6                1.4               0.2"
      ]
     },
     "execution_count": 3,
     "metadata": {},
     "output_type": "execute_result"
    }
   ],
   "source": [
    "df = pd.DataFrame(iris.data, columns=iris.feature_names)\n",
    "df.head()"
   ]
  },
  {
   "cell_type": "code",
   "execution_count": 4,
   "id": "d6e1aa5f",
   "metadata": {
    "execution": {
     "iopub.execute_input": "2022-03-31T07:08:16.262311Z",
     "iopub.status.busy": "2022-03-31T07:08:16.261283Z",
     "iopub.status.idle": "2022-03-31T07:08:16.263231Z",
     "shell.execute_reply": "2022-03-31T07:08:16.263832Z",
     "shell.execute_reply.started": "2022-03-31T07:06:37.862349Z"
    },
    "papermill": {
     "duration": 0.019805,
     "end_time": "2022-03-31T07:08:16.263996",
     "exception": false,
     "start_time": "2022-03-31T07:08:16.244191",
     "status": "completed"
    },
    "tags": []
   },
   "outputs": [],
   "source": [
    "X = df"
   ]
  },
  {
   "cell_type": "code",
   "execution_count": 5,
   "id": "af57855a",
   "metadata": {
    "execution": {
     "iopub.execute_input": "2022-03-31T07:08:16.293822Z",
     "iopub.status.busy": "2022-03-31T07:08:16.292783Z",
     "iopub.status.idle": "2022-03-31T07:08:16.294703Z",
     "shell.execute_reply": "2022-03-31T07:08:16.295317Z",
     "shell.execute_reply.started": "2022-03-31T07:06:37.975004Z"
    },
    "papermill": {
     "duration": 0.019158,
     "end_time": "2022-03-31T07:08:16.295486",
     "exception": false,
     "start_time": "2022-03-31T07:08:16.276328",
     "status": "completed"
    },
    "tags": []
   },
   "outputs": [],
   "source": [
    "y = iris.target"
   ]
  },
  {
   "cell_type": "code",
   "execution_count": 6,
   "id": "c96dff3e",
   "metadata": {
    "execution": {
     "iopub.execute_input": "2022-03-31T07:08:16.323834Z",
     "iopub.status.busy": "2022-03-31T07:08:16.322871Z",
     "iopub.status.idle": "2022-03-31T07:08:16.338906Z",
     "shell.execute_reply": "2022-03-31T07:08:16.339451Z",
     "shell.execute_reply.started": "2022-03-31T07:06:37.985930Z"
    },
    "papermill": {
     "duration": 0.031916,
     "end_time": "2022-03-31T07:08:16.339631",
     "exception": false,
     "start_time": "2022-03-31T07:08:16.307715",
     "status": "completed"
    },
    "tags": []
   },
   "outputs": [
    {
     "data": {
      "text/html": [
       "<div>\n",
       "<style scoped>\n",
       "    .dataframe tbody tr th:only-of-type {\n",
       "        vertical-align: middle;\n",
       "    }\n",
       "\n",
       "    .dataframe tbody tr th {\n",
       "        vertical-align: top;\n",
       "    }\n",
       "\n",
       "    .dataframe thead th {\n",
       "        text-align: right;\n",
       "    }\n",
       "</style>\n",
       "<table border=\"1\" class=\"dataframe\">\n",
       "  <thead>\n",
       "    <tr style=\"text-align: right;\">\n",
       "      <th></th>\n",
       "      <th>sepal length (cm)</th>\n",
       "      <th>sepal width (cm)</th>\n",
       "      <th>petal length (cm)</th>\n",
       "      <th>petal width (cm)</th>\n",
       "      <th>target</th>\n",
       "    </tr>\n",
       "  </thead>\n",
       "  <tbody>\n",
       "    <tr>\n",
       "      <th>0</th>\n",
       "      <td>5.1</td>\n",
       "      <td>3.5</td>\n",
       "      <td>1.4</td>\n",
       "      <td>0.2</td>\n",
       "      <td>0</td>\n",
       "    </tr>\n",
       "    <tr>\n",
       "      <th>1</th>\n",
       "      <td>4.9</td>\n",
       "      <td>3.0</td>\n",
       "      <td>1.4</td>\n",
       "      <td>0.2</td>\n",
       "      <td>0</td>\n",
       "    </tr>\n",
       "    <tr>\n",
       "      <th>2</th>\n",
       "      <td>4.7</td>\n",
       "      <td>3.2</td>\n",
       "      <td>1.3</td>\n",
       "      <td>0.2</td>\n",
       "      <td>0</td>\n",
       "    </tr>\n",
       "    <tr>\n",
       "      <th>3</th>\n",
       "      <td>4.6</td>\n",
       "      <td>3.1</td>\n",
       "      <td>1.5</td>\n",
       "      <td>0.2</td>\n",
       "      <td>0</td>\n",
       "    </tr>\n",
       "    <tr>\n",
       "      <th>4</th>\n",
       "      <td>5.0</td>\n",
       "      <td>3.6</td>\n",
       "      <td>1.4</td>\n",
       "      <td>0.2</td>\n",
       "      <td>0</td>\n",
       "    </tr>\n",
       "  </tbody>\n",
       "</table>\n",
       "</div>"
      ],
      "text/plain": [
       "   sepal length (cm)  sepal width (cm)  petal length (cm)  petal width (cm)  \\\n",
       "0                5.1               3.5                1.4               0.2   \n",
       "1                4.9               3.0                1.4               0.2   \n",
       "2                4.7               3.2                1.3               0.2   \n",
       "3                4.6               3.1                1.5               0.2   \n",
       "4                5.0               3.6                1.4               0.2   \n",
       "\n",
       "   target  \n",
       "0       0  \n",
       "1       0  \n",
       "2       0  \n",
       "3       0  \n",
       "4       0  "
      ]
     },
     "execution_count": 6,
     "metadata": {},
     "output_type": "execute_result"
    }
   ],
   "source": [
    "df['target'] = y\n",
    "df.head()"
   ]
  },
  {
   "cell_type": "code",
   "execution_count": 7,
   "id": "26014838",
   "metadata": {
    "execution": {
     "iopub.execute_input": "2022-03-31T07:08:16.369171Z",
     "iopub.status.busy": "2022-03-31T07:08:16.368179Z",
     "iopub.status.idle": "2022-03-31T07:08:16.418448Z",
     "shell.execute_reply": "2022-03-31T07:08:16.418936Z",
     "shell.execute_reply.started": "2022-03-31T07:06:38.023486Z"
    },
    "papermill": {
     "duration": 0.066677,
     "end_time": "2022-03-31T07:08:16.419120",
     "exception": false,
     "start_time": "2022-03-31T07:08:16.352443",
     "status": "completed"
    },
    "tags": []
   },
   "outputs": [],
   "source": [
    "from sklearn.model_selection import train_test_split\n",
    "X_train, X_test, y_train, y_test = train_test_split(X,y,test_size=0.2)"
   ]
  },
  {
   "cell_type": "code",
   "execution_count": 8,
   "id": "68c933d4",
   "metadata": {
    "execution": {
     "iopub.execute_input": "2022-03-31T07:08:16.449893Z",
     "iopub.status.busy": "2022-03-31T07:08:16.449198Z",
     "iopub.status.idle": "2022-03-31T07:08:16.666391Z",
     "shell.execute_reply": "2022-03-31T07:08:16.666901Z",
     "shell.execute_reply.started": "2022-03-31T07:07:32.431134Z"
    },
    "papermill": {
     "duration": 0.234908,
     "end_time": "2022-03-31T07:08:16.667084",
     "exception": false,
     "start_time": "2022-03-31T07:08:16.432176",
     "status": "completed"
    },
    "tags": []
   },
   "outputs": [],
   "source": [
    "from sklearn.ensemble import RandomForestClassifier\n",
    "model = RandomForestClassifier()"
   ]
  },
  {
   "cell_type": "code",
   "execution_count": 9,
   "id": "077a0756",
   "metadata": {
    "execution": {
     "iopub.execute_input": "2022-03-31T07:08:16.696789Z",
     "iopub.status.busy": "2022-03-31T07:08:16.695824Z",
     "iopub.status.idle": "2022-03-31T07:08:16.866995Z",
     "shell.execute_reply": "2022-03-31T07:08:16.867504Z",
     "shell.execute_reply.started": "2022-03-31T07:07:35.348562Z"
    },
    "papermill": {
     "duration": 0.187571,
     "end_time": "2022-03-31T07:08:16.867708",
     "exception": false,
     "start_time": "2022-03-31T07:08:16.680137",
     "status": "completed"
    },
    "tags": []
   },
   "outputs": [
    {
     "data": {
      "text/plain": [
       "RandomForestClassifier()"
      ]
     },
     "execution_count": 9,
     "metadata": {},
     "output_type": "execute_result"
    }
   ],
   "source": [
    "model.fit(X_train, y_train)"
   ]
  },
  {
   "cell_type": "code",
   "execution_count": 10,
   "id": "b0348fa4",
   "metadata": {
    "execution": {
     "iopub.execute_input": "2022-03-31T07:08:16.909081Z",
     "iopub.status.busy": "2022-03-31T07:08:16.906947Z",
     "iopub.status.idle": "2022-03-31T07:08:16.919520Z",
     "shell.execute_reply": "2022-03-31T07:08:16.918838Z",
     "shell.execute_reply.started": "2022-03-31T07:07:38.326563Z"
    },
    "papermill": {
     "duration": 0.038272,
     "end_time": "2022-03-31T07:08:16.919665",
     "exception": false,
     "start_time": "2022-03-31T07:08:16.881393",
     "status": "completed"
    },
    "tags": []
   },
   "outputs": [
    {
     "data": {
      "text/plain": [
       "1.0"
      ]
     },
     "execution_count": 10,
     "metadata": {},
     "output_type": "execute_result"
    }
   ],
   "source": [
    "model.score(X_test,y_test)"
   ]
  }
 ],
 "metadata": {
  "kernelspec": {
   "display_name": "Python 3",
   "language": "python",
   "name": "python3"
  },
  "language_info": {
   "codemirror_mode": {
    "name": "ipython",
    "version": 3
   },
   "file_extension": ".py",
   "mimetype": "text/x-python",
   "name": "python",
   "nbconvert_exporter": "python",
   "pygments_lexer": "ipython3",
   "version": "3.7.12"
  },
  "papermill": {
   "default_parameters": {},
   "duration": 15.530398,
   "end_time": "2022-03-31T07:08:20.507932",
   "environment_variables": {},
   "exception": null,
   "input_path": "__notebook__.ipynb",
   "output_path": "__notebook__.ipynb",
   "parameters": {},
   "start_time": "2022-03-31T07:08:04.977534",
   "version": "2.3.3"
  }
 },
 "nbformat": 4,
 "nbformat_minor": 5
}

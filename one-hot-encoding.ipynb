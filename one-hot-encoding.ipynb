{
 "cells": [
  {
   "cell_type": "code",
   "execution_count": 1,
   "id": "948fb0da",
   "metadata": {
    "_cell_guid": "b1076dfc-b9ad-4769-8c92-a6c4dae69d19",
    "_uuid": "8f2839f25d086af736a60e9eeb907d3b93b6e0e5",
    "execution": {
     "iopub.execute_input": "2022-03-13T14:18:02.867335Z",
     "iopub.status.busy": "2022-03-13T14:18:02.866667Z",
     "iopub.status.idle": "2022-03-13T14:18:03.892100Z",
     "shell.execute_reply": "2022-03-13T14:18:03.891482Z",
     "shell.execute_reply.started": "2022-03-13T14:16:53.606255Z"
    },
    "papermill": {
     "duration": 1.053702,
     "end_time": "2022-03-13T14:18:03.892248",
     "exception": false,
     "start_time": "2022-03-13T14:18:02.838546",
     "status": "completed"
    },
    "tags": []
   },
   "outputs": [],
   "source": [
    "import numpy as np\n",
    "import pandas as pd\n",
    "from sklearn.linear_model import LinearRegression"
   ]
  },
  {
   "cell_type": "code",
   "execution_count": 2,
   "id": "25c545f8",
   "metadata": {
    "execution": {
     "iopub.execute_input": "2022-03-13T14:18:03.931745Z",
     "iopub.status.busy": "2022-03-13T14:18:03.931178Z",
     "iopub.status.idle": "2022-03-13T14:18:03.955801Z",
     "shell.execute_reply": "2022-03-13T14:18:03.956237Z",
     "shell.execute_reply.started": "2022-03-13T14:16:53.616249Z"
    },
    "papermill": {
     "duration": 0.045742,
     "end_time": "2022-03-13T14:18:03.956381",
     "exception": false,
     "start_time": "2022-03-13T14:18:03.910639",
     "status": "completed"
    },
    "tags": []
   },
   "outputs": [
    {
     "data": {
      "text/html": [
       "<div>\n",
       "<style scoped>\n",
       "    .dataframe tbody tr th:only-of-type {\n",
       "        vertical-align: middle;\n",
       "    }\n",
       "\n",
       "    .dataframe tbody tr th {\n",
       "        vertical-align: top;\n",
       "    }\n",
       "\n",
       "    .dataframe thead th {\n",
       "        text-align: right;\n",
       "    }\n",
       "</style>\n",
       "<table border=\"1\" class=\"dataframe\">\n",
       "  <thead>\n",
       "    <tr style=\"text-align: right;\">\n",
       "      <th></th>\n",
       "      <th>town</th>\n",
       "      <th>area</th>\n",
       "      <th>price</th>\n",
       "    </tr>\n",
       "  </thead>\n",
       "  <tbody>\n",
       "    <tr>\n",
       "      <th>0</th>\n",
       "      <td>monroe township</td>\n",
       "      <td>2600</td>\n",
       "      <td>550000</td>\n",
       "    </tr>\n",
       "    <tr>\n",
       "      <th>1</th>\n",
       "      <td>monroe township</td>\n",
       "      <td>3000</td>\n",
       "      <td>565000</td>\n",
       "    </tr>\n",
       "    <tr>\n",
       "      <th>2</th>\n",
       "      <td>monroe township</td>\n",
       "      <td>3200</td>\n",
       "      <td>610000</td>\n",
       "    </tr>\n",
       "    <tr>\n",
       "      <th>3</th>\n",
       "      <td>monroe township</td>\n",
       "      <td>3600</td>\n",
       "      <td>680000</td>\n",
       "    </tr>\n",
       "    <tr>\n",
       "      <th>4</th>\n",
       "      <td>monroe township</td>\n",
       "      <td>4000</td>\n",
       "      <td>725000</td>\n",
       "    </tr>\n",
       "    <tr>\n",
       "      <th>5</th>\n",
       "      <td>west windsor</td>\n",
       "      <td>2600</td>\n",
       "      <td>585000</td>\n",
       "    </tr>\n",
       "    <tr>\n",
       "      <th>6</th>\n",
       "      <td>west windsor</td>\n",
       "      <td>2800</td>\n",
       "      <td>615000</td>\n",
       "    </tr>\n",
       "    <tr>\n",
       "      <th>7</th>\n",
       "      <td>west windsor</td>\n",
       "      <td>3300</td>\n",
       "      <td>650000</td>\n",
       "    </tr>\n",
       "    <tr>\n",
       "      <th>8</th>\n",
       "      <td>west windsor</td>\n",
       "      <td>3600</td>\n",
       "      <td>710000</td>\n",
       "    </tr>\n",
       "    <tr>\n",
       "      <th>9</th>\n",
       "      <td>robinsville</td>\n",
       "      <td>2600</td>\n",
       "      <td>575000</td>\n",
       "    </tr>\n",
       "    <tr>\n",
       "      <th>10</th>\n",
       "      <td>robinsville</td>\n",
       "      <td>2900</td>\n",
       "      <td>600000</td>\n",
       "    </tr>\n",
       "    <tr>\n",
       "      <th>11</th>\n",
       "      <td>robinsville</td>\n",
       "      <td>3100</td>\n",
       "      <td>620000</td>\n",
       "    </tr>\n",
       "    <tr>\n",
       "      <th>12</th>\n",
       "      <td>robinsville</td>\n",
       "      <td>3600</td>\n",
       "      <td>695000</td>\n",
       "    </tr>\n",
       "  </tbody>\n",
       "</table>\n",
       "</div>"
      ],
      "text/plain": [
       "               town  area   price\n",
       "0   monroe township  2600  550000\n",
       "1   monroe township  3000  565000\n",
       "2   monroe township  3200  610000\n",
       "3   monroe township  3600  680000\n",
       "4   monroe township  4000  725000\n",
       "5      west windsor  2600  585000\n",
       "6      west windsor  2800  615000\n",
       "7      west windsor  3300  650000\n",
       "8      west windsor  3600  710000\n",
       "9       robinsville  2600  575000\n",
       "10      robinsville  2900  600000\n",
       "11      robinsville  3100  620000\n",
       "12      robinsville  3600  695000"
      ]
     },
     "execution_count": 2,
     "metadata": {},
     "output_type": "execute_result"
    }
   ],
   "source": [
    "df = pd.read_csv(\"../input/homeprices-one-hot-encoding/homeprices.csv\")\n",
    "df"
   ]
  },
  {
   "cell_type": "code",
   "execution_count": 3,
   "id": "0f2273f1",
   "metadata": {
    "execution": {
     "iopub.execute_input": "2022-03-13T14:18:04.009791Z",
     "iopub.status.busy": "2022-03-13T14:18:03.996761Z",
     "iopub.status.idle": "2022-03-13T14:18:04.012352Z",
     "shell.execute_reply": "2022-03-13T14:18:04.012791Z",
     "shell.execute_reply.started": "2022-03-13T14:16:53.645135Z"
    },
    "papermill": {
     "duration": 0.037707,
     "end_time": "2022-03-13T14:18:04.012940",
     "exception": false,
     "start_time": "2022-03-13T14:18:03.975233",
     "status": "completed"
    },
    "tags": []
   },
   "outputs": [
    {
     "data": {
      "text/html": [
       "<div>\n",
       "<style scoped>\n",
       "    .dataframe tbody tr th:only-of-type {\n",
       "        vertical-align: middle;\n",
       "    }\n",
       "\n",
       "    .dataframe tbody tr th {\n",
       "        vertical-align: top;\n",
       "    }\n",
       "\n",
       "    .dataframe thead th {\n",
       "        text-align: right;\n",
       "    }\n",
       "</style>\n",
       "<table border=\"1\" class=\"dataframe\">\n",
       "  <thead>\n",
       "    <tr style=\"text-align: right;\">\n",
       "      <th></th>\n",
       "      <th>monroe township</th>\n",
       "      <th>robinsville</th>\n",
       "      <th>west windsor</th>\n",
       "    </tr>\n",
       "  </thead>\n",
       "  <tbody>\n",
       "    <tr>\n",
       "      <th>0</th>\n",
       "      <td>1</td>\n",
       "      <td>0</td>\n",
       "      <td>0</td>\n",
       "    </tr>\n",
       "    <tr>\n",
       "      <th>1</th>\n",
       "      <td>1</td>\n",
       "      <td>0</td>\n",
       "      <td>0</td>\n",
       "    </tr>\n",
       "    <tr>\n",
       "      <th>2</th>\n",
       "      <td>1</td>\n",
       "      <td>0</td>\n",
       "      <td>0</td>\n",
       "    </tr>\n",
       "    <tr>\n",
       "      <th>3</th>\n",
       "      <td>1</td>\n",
       "      <td>0</td>\n",
       "      <td>0</td>\n",
       "    </tr>\n",
       "    <tr>\n",
       "      <th>4</th>\n",
       "      <td>1</td>\n",
       "      <td>0</td>\n",
       "      <td>0</td>\n",
       "    </tr>\n",
       "    <tr>\n",
       "      <th>5</th>\n",
       "      <td>0</td>\n",
       "      <td>0</td>\n",
       "      <td>1</td>\n",
       "    </tr>\n",
       "    <tr>\n",
       "      <th>6</th>\n",
       "      <td>0</td>\n",
       "      <td>0</td>\n",
       "      <td>1</td>\n",
       "    </tr>\n",
       "    <tr>\n",
       "      <th>7</th>\n",
       "      <td>0</td>\n",
       "      <td>0</td>\n",
       "      <td>1</td>\n",
       "    </tr>\n",
       "    <tr>\n",
       "      <th>8</th>\n",
       "      <td>0</td>\n",
       "      <td>0</td>\n",
       "      <td>1</td>\n",
       "    </tr>\n",
       "    <tr>\n",
       "      <th>9</th>\n",
       "      <td>0</td>\n",
       "      <td>1</td>\n",
       "      <td>0</td>\n",
       "    </tr>\n",
       "    <tr>\n",
       "      <th>10</th>\n",
       "      <td>0</td>\n",
       "      <td>1</td>\n",
       "      <td>0</td>\n",
       "    </tr>\n",
       "    <tr>\n",
       "      <th>11</th>\n",
       "      <td>0</td>\n",
       "      <td>1</td>\n",
       "      <td>0</td>\n",
       "    </tr>\n",
       "    <tr>\n",
       "      <th>12</th>\n",
       "      <td>0</td>\n",
       "      <td>1</td>\n",
       "      <td>0</td>\n",
       "    </tr>\n",
       "  </tbody>\n",
       "</table>\n",
       "</div>"
      ],
      "text/plain": [
       "    monroe township  robinsville  west windsor\n",
       "0                 1            0             0\n",
       "1                 1            0             0\n",
       "2                 1            0             0\n",
       "3                 1            0             0\n",
       "4                 1            0             0\n",
       "5                 0            0             1\n",
       "6                 0            0             1\n",
       "7                 0            0             1\n",
       "8                 0            0             1\n",
       "9                 0            1             0\n",
       "10                0            1             0\n",
       "11                0            1             0\n",
       "12                0            1             0"
      ]
     },
     "execution_count": 3,
     "metadata": {},
     "output_type": "execute_result"
    }
   ],
   "source": [
    "dummies = pd.get_dummies(df.town)\n",
    "dummies"
   ]
  },
  {
   "cell_type": "code",
   "execution_count": 4,
   "id": "a5d28d53",
   "metadata": {
    "execution": {
     "iopub.execute_input": "2022-03-13T14:18:04.054193Z",
     "iopub.status.busy": "2022-03-13T14:18:04.053647Z",
     "iopub.status.idle": "2022-03-13T14:18:04.062858Z",
     "shell.execute_reply": "2022-03-13T14:18:04.063268Z",
     "shell.execute_reply.started": "2022-03-13T14:16:53.659989Z"
    },
    "papermill": {
     "duration": 0.030846,
     "end_time": "2022-03-13T14:18:04.063406",
     "exception": false,
     "start_time": "2022-03-13T14:18:04.032560",
     "status": "completed"
    },
    "tags": []
   },
   "outputs": [
    {
     "data": {
      "text/html": [
       "<div>\n",
       "<style scoped>\n",
       "    .dataframe tbody tr th:only-of-type {\n",
       "        vertical-align: middle;\n",
       "    }\n",
       "\n",
       "    .dataframe tbody tr th {\n",
       "        vertical-align: top;\n",
       "    }\n",
       "\n",
       "    .dataframe thead th {\n",
       "        text-align: right;\n",
       "    }\n",
       "</style>\n",
       "<table border=\"1\" class=\"dataframe\">\n",
       "  <thead>\n",
       "    <tr style=\"text-align: right;\">\n",
       "      <th></th>\n",
       "      <th>town</th>\n",
       "      <th>area</th>\n",
       "      <th>price</th>\n",
       "      <th>monroe township</th>\n",
       "      <th>robinsville</th>\n",
       "      <th>west windsor</th>\n",
       "    </tr>\n",
       "  </thead>\n",
       "  <tbody>\n",
       "    <tr>\n",
       "      <th>0</th>\n",
       "      <td>monroe township</td>\n",
       "      <td>2600</td>\n",
       "      <td>550000</td>\n",
       "      <td>1</td>\n",
       "      <td>0</td>\n",
       "      <td>0</td>\n",
       "    </tr>\n",
       "    <tr>\n",
       "      <th>1</th>\n",
       "      <td>monroe township</td>\n",
       "      <td>3000</td>\n",
       "      <td>565000</td>\n",
       "      <td>1</td>\n",
       "      <td>0</td>\n",
       "      <td>0</td>\n",
       "    </tr>\n",
       "    <tr>\n",
       "      <th>2</th>\n",
       "      <td>monroe township</td>\n",
       "      <td>3200</td>\n",
       "      <td>610000</td>\n",
       "      <td>1</td>\n",
       "      <td>0</td>\n",
       "      <td>0</td>\n",
       "    </tr>\n",
       "    <tr>\n",
       "      <th>3</th>\n",
       "      <td>monroe township</td>\n",
       "      <td>3600</td>\n",
       "      <td>680000</td>\n",
       "      <td>1</td>\n",
       "      <td>0</td>\n",
       "      <td>0</td>\n",
       "    </tr>\n",
       "    <tr>\n",
       "      <th>4</th>\n",
       "      <td>monroe township</td>\n",
       "      <td>4000</td>\n",
       "      <td>725000</td>\n",
       "      <td>1</td>\n",
       "      <td>0</td>\n",
       "      <td>0</td>\n",
       "    </tr>\n",
       "    <tr>\n",
       "      <th>5</th>\n",
       "      <td>west windsor</td>\n",
       "      <td>2600</td>\n",
       "      <td>585000</td>\n",
       "      <td>0</td>\n",
       "      <td>0</td>\n",
       "      <td>1</td>\n",
       "    </tr>\n",
       "    <tr>\n",
       "      <th>6</th>\n",
       "      <td>west windsor</td>\n",
       "      <td>2800</td>\n",
       "      <td>615000</td>\n",
       "      <td>0</td>\n",
       "      <td>0</td>\n",
       "      <td>1</td>\n",
       "    </tr>\n",
       "    <tr>\n",
       "      <th>7</th>\n",
       "      <td>west windsor</td>\n",
       "      <td>3300</td>\n",
       "      <td>650000</td>\n",
       "      <td>0</td>\n",
       "      <td>0</td>\n",
       "      <td>1</td>\n",
       "    </tr>\n",
       "    <tr>\n",
       "      <th>8</th>\n",
       "      <td>west windsor</td>\n",
       "      <td>3600</td>\n",
       "      <td>710000</td>\n",
       "      <td>0</td>\n",
       "      <td>0</td>\n",
       "      <td>1</td>\n",
       "    </tr>\n",
       "    <tr>\n",
       "      <th>9</th>\n",
       "      <td>robinsville</td>\n",
       "      <td>2600</td>\n",
       "      <td>575000</td>\n",
       "      <td>0</td>\n",
       "      <td>1</td>\n",
       "      <td>0</td>\n",
       "    </tr>\n",
       "    <tr>\n",
       "      <th>10</th>\n",
       "      <td>robinsville</td>\n",
       "      <td>2900</td>\n",
       "      <td>600000</td>\n",
       "      <td>0</td>\n",
       "      <td>1</td>\n",
       "      <td>0</td>\n",
       "    </tr>\n",
       "    <tr>\n",
       "      <th>11</th>\n",
       "      <td>robinsville</td>\n",
       "      <td>3100</td>\n",
       "      <td>620000</td>\n",
       "      <td>0</td>\n",
       "      <td>1</td>\n",
       "      <td>0</td>\n",
       "    </tr>\n",
       "    <tr>\n",
       "      <th>12</th>\n",
       "      <td>robinsville</td>\n",
       "      <td>3600</td>\n",
       "      <td>695000</td>\n",
       "      <td>0</td>\n",
       "      <td>1</td>\n",
       "      <td>0</td>\n",
       "    </tr>\n",
       "  </tbody>\n",
       "</table>\n",
       "</div>"
      ],
      "text/plain": [
       "               town  area   price  monroe township  robinsville  west windsor\n",
       "0   monroe township  2600  550000                1            0             0\n",
       "1   monroe township  3000  565000                1            0             0\n",
       "2   monroe township  3200  610000                1            0             0\n",
       "3   monroe township  3600  680000                1            0             0\n",
       "4   monroe township  4000  725000                1            0             0\n",
       "5      west windsor  2600  585000                0            0             1\n",
       "6      west windsor  2800  615000                0            0             1\n",
       "7      west windsor  3300  650000                0            0             1\n",
       "8      west windsor  3600  710000                0            0             1\n",
       "9       robinsville  2600  575000                0            1             0\n",
       "10      robinsville  2900  600000                0            1             0\n",
       "11      robinsville  3100  620000                0            1             0\n",
       "12      robinsville  3600  695000                0            1             0"
      ]
     },
     "execution_count": 4,
     "metadata": {},
     "output_type": "execute_result"
    }
   ],
   "source": [
    "merged_df = pd.concat([df,dummies], axis='columns')\n",
    "merged_df"
   ]
  },
  {
   "cell_type": "code",
   "execution_count": 5,
   "id": "cb52863c",
   "metadata": {
    "execution": {
     "iopub.execute_input": "2022-03-13T14:18:04.111857Z",
     "iopub.status.busy": "2022-03-13T14:18:04.104091Z",
     "iopub.status.idle": "2022-03-13T14:18:04.114768Z",
     "shell.execute_reply": "2022-03-13T14:18:04.115250Z",
     "shell.execute_reply.started": "2022-03-13T14:16:53.682044Z"
    },
    "papermill": {
     "duration": 0.032748,
     "end_time": "2022-03-13T14:18:04.115401",
     "exception": false,
     "start_time": "2022-03-13T14:18:04.082653",
     "status": "completed"
    },
    "tags": []
   },
   "outputs": [
    {
     "data": {
      "text/html": [
       "<div>\n",
       "<style scoped>\n",
       "    .dataframe tbody tr th:only-of-type {\n",
       "        vertical-align: middle;\n",
       "    }\n",
       "\n",
       "    .dataframe tbody tr th {\n",
       "        vertical-align: top;\n",
       "    }\n",
       "\n",
       "    .dataframe thead th {\n",
       "        text-align: right;\n",
       "    }\n",
       "</style>\n",
       "<table border=\"1\" class=\"dataframe\">\n",
       "  <thead>\n",
       "    <tr style=\"text-align: right;\">\n",
       "      <th></th>\n",
       "      <th>area</th>\n",
       "      <th>price</th>\n",
       "      <th>monroe township</th>\n",
       "      <th>robinsville</th>\n",
       "    </tr>\n",
       "  </thead>\n",
       "  <tbody>\n",
       "    <tr>\n",
       "      <th>0</th>\n",
       "      <td>2600</td>\n",
       "      <td>550000</td>\n",
       "      <td>1</td>\n",
       "      <td>0</td>\n",
       "    </tr>\n",
       "    <tr>\n",
       "      <th>1</th>\n",
       "      <td>3000</td>\n",
       "      <td>565000</td>\n",
       "      <td>1</td>\n",
       "      <td>0</td>\n",
       "    </tr>\n",
       "    <tr>\n",
       "      <th>2</th>\n",
       "      <td>3200</td>\n",
       "      <td>610000</td>\n",
       "      <td>1</td>\n",
       "      <td>0</td>\n",
       "    </tr>\n",
       "    <tr>\n",
       "      <th>3</th>\n",
       "      <td>3600</td>\n",
       "      <td>680000</td>\n",
       "      <td>1</td>\n",
       "      <td>0</td>\n",
       "    </tr>\n",
       "    <tr>\n",
       "      <th>4</th>\n",
       "      <td>4000</td>\n",
       "      <td>725000</td>\n",
       "      <td>1</td>\n",
       "      <td>0</td>\n",
       "    </tr>\n",
       "    <tr>\n",
       "      <th>5</th>\n",
       "      <td>2600</td>\n",
       "      <td>585000</td>\n",
       "      <td>0</td>\n",
       "      <td>0</td>\n",
       "    </tr>\n",
       "    <tr>\n",
       "      <th>6</th>\n",
       "      <td>2800</td>\n",
       "      <td>615000</td>\n",
       "      <td>0</td>\n",
       "      <td>0</td>\n",
       "    </tr>\n",
       "    <tr>\n",
       "      <th>7</th>\n",
       "      <td>3300</td>\n",
       "      <td>650000</td>\n",
       "      <td>0</td>\n",
       "      <td>0</td>\n",
       "    </tr>\n",
       "    <tr>\n",
       "      <th>8</th>\n",
       "      <td>3600</td>\n",
       "      <td>710000</td>\n",
       "      <td>0</td>\n",
       "      <td>0</td>\n",
       "    </tr>\n",
       "    <tr>\n",
       "      <th>9</th>\n",
       "      <td>2600</td>\n",
       "      <td>575000</td>\n",
       "      <td>0</td>\n",
       "      <td>1</td>\n",
       "    </tr>\n",
       "    <tr>\n",
       "      <th>10</th>\n",
       "      <td>2900</td>\n",
       "      <td>600000</td>\n",
       "      <td>0</td>\n",
       "      <td>1</td>\n",
       "    </tr>\n",
       "    <tr>\n",
       "      <th>11</th>\n",
       "      <td>3100</td>\n",
       "      <td>620000</td>\n",
       "      <td>0</td>\n",
       "      <td>1</td>\n",
       "    </tr>\n",
       "    <tr>\n",
       "      <th>12</th>\n",
       "      <td>3600</td>\n",
       "      <td>695000</td>\n",
       "      <td>0</td>\n",
       "      <td>1</td>\n",
       "    </tr>\n",
       "  </tbody>\n",
       "</table>\n",
       "</div>"
      ],
      "text/plain": [
       "    area   price  monroe township  robinsville\n",
       "0   2600  550000                1            0\n",
       "1   3000  565000                1            0\n",
       "2   3200  610000                1            0\n",
       "3   3600  680000                1            0\n",
       "4   4000  725000                1            0\n",
       "5   2600  585000                0            0\n",
       "6   2800  615000                0            0\n",
       "7   3300  650000                0            0\n",
       "8   3600  710000                0            0\n",
       "9   2600  575000                0            1\n",
       "10  2900  600000                0            1\n",
       "11  3100  620000                0            1\n",
       "12  3600  695000                0            1"
      ]
     },
     "execution_count": 5,
     "metadata": {},
     "output_type": "execute_result"
    }
   ],
   "source": [
    "final_df = merged_df.drop(['town','west windsor'],axis='columns')\n",
    "final_df"
   ]
  },
  {
   "cell_type": "code",
   "execution_count": 6,
   "id": "eeac13c5",
   "metadata": {
    "execution": {
     "iopub.execute_input": "2022-03-13T14:18:04.160017Z",
     "iopub.status.busy": "2022-03-13T14:18:04.159444Z",
     "iopub.status.idle": "2022-03-13T14:18:04.164673Z",
     "shell.execute_reply": "2022-03-13T14:18:04.165165Z",
     "shell.execute_reply.started": "2022-03-13T14:16:53.698176Z"
    },
    "papermill": {
     "duration": 0.030052,
     "end_time": "2022-03-13T14:18:04.165313",
     "exception": false,
     "start_time": "2022-03-13T14:18:04.135261",
     "status": "completed"
    },
    "tags": []
   },
   "outputs": [],
   "source": [
    "# Create the linear model\n",
    "model = LinearRegression()\n",
    "\n",
    "X = final_df.drop('price',axis='columns')\n",
    "Y = final_df.price"
   ]
  },
  {
   "cell_type": "code",
   "execution_count": 7,
   "id": "92c4d459",
   "metadata": {
    "execution": {
     "iopub.execute_input": "2022-03-13T14:18:04.224844Z",
     "iopub.status.busy": "2022-03-13T14:18:04.206927Z",
     "iopub.status.idle": "2022-03-13T14:18:04.229558Z",
     "shell.execute_reply": "2022-03-13T14:18:04.230110Z",
     "shell.execute_reply.started": "2022-03-13T14:16:53.711089Z"
    },
    "papermill": {
     "duration": 0.04508,
     "end_time": "2022-03-13T14:18:04.230311",
     "exception": false,
     "start_time": "2022-03-13T14:18:04.185231",
     "status": "completed"
    },
    "tags": []
   },
   "outputs": [
    {
     "data": {
      "text/plain": [
       "LinearRegression()"
      ]
     },
     "execution_count": 7,
     "metadata": {},
     "output_type": "execute_result"
    }
   ],
   "source": [
    "model.fit(X,Y)"
   ]
  },
  {
   "cell_type": "code",
   "execution_count": 8,
   "id": "e2b6dcc3",
   "metadata": {
    "execution": {
     "iopub.execute_input": "2022-03-13T14:18:04.298550Z",
     "iopub.status.busy": "2022-03-13T14:18:04.297822Z",
     "iopub.status.idle": "2022-03-13T14:18:04.306236Z",
     "shell.execute_reply": "2022-03-13T14:18:04.305673Z",
     "shell.execute_reply.started": "2022-03-13T14:16:53.731066Z"
    },
    "papermill": {
     "duration": 0.044259,
     "end_time": "2022-03-13T14:18:04.306383",
     "exception": false,
     "start_time": "2022-03-13T14:18:04.262124",
     "status": "completed"
    },
    "tags": []
   },
   "outputs": [
    {
     "name": "stderr",
     "output_type": "stream",
     "text": [
      "/opt/conda/lib/python3.7/site-packages/sklearn/base.py:446: UserWarning: X does not have valid feature names, but LinearRegression was fitted with feature names\n",
      "  \"X does not have valid feature names, but\"\n"
     ]
    },
    {
     "data": {
      "text/plain": [
       "array([692293.59277574])"
      ]
     },
     "execution_count": 8,
     "metadata": {},
     "output_type": "execute_result"
    }
   ],
   "source": [
    "model.predict([[3600,0,1]])"
   ]
  },
  {
   "cell_type": "code",
   "execution_count": 9,
   "id": "c1238cb7",
   "metadata": {
    "execution": {
     "iopub.execute_input": "2022-03-13T14:18:04.380305Z",
     "iopub.status.busy": "2022-03-13T14:18:04.377154Z",
     "iopub.status.idle": "2022-03-13T14:18:04.383855Z",
     "shell.execute_reply": "2022-03-13T14:18:04.384407Z",
     "shell.execute_reply.started": "2022-03-13T14:16:53.743770Z"
    },
    "papermill": {
     "duration": 0.042477,
     "end_time": "2022-03-13T14:18:04.384608",
     "exception": false,
     "start_time": "2022-03-13T14:18:04.342131",
     "status": "completed"
    },
    "tags": []
   },
   "outputs": [
    {
     "name": "stderr",
     "output_type": "stream",
     "text": [
      "/opt/conda/lib/python3.7/site-packages/sklearn/base.py:446: UserWarning: X does not have valid feature names, but LinearRegression was fitted with feature names\n",
      "  \"X does not have valid feature names, but\"\n"
     ]
    },
    {
     "data": {
      "text/plain": [
       "array([605103.20361213])"
      ]
     },
     "execution_count": 9,
     "metadata": {},
     "output_type": "execute_result"
    }
   ],
   "source": [
    "model.predict([[2800,0,0]])"
   ]
  },
  {
   "cell_type": "code",
   "execution_count": 10,
   "id": "c7948ecc",
   "metadata": {
    "execution": {
     "iopub.execute_input": "2022-03-13T14:18:04.455955Z",
     "iopub.status.busy": "2022-03-13T14:18:04.455254Z",
     "iopub.status.idle": "2022-03-13T14:18:04.462103Z",
     "shell.execute_reply": "2022-03-13T14:18:04.462745Z",
     "shell.execute_reply.started": "2022-03-13T14:16:53.757069Z"
    },
    "papermill": {
     "duration": 0.043724,
     "end_time": "2022-03-13T14:18:04.462981",
     "exception": false,
     "start_time": "2022-03-13T14:18:04.419257",
     "status": "completed"
    },
    "tags": []
   },
   "outputs": [
    {
     "data": {
      "text/plain": [
       "0.9573929037221873"
      ]
     },
     "execution_count": 10,
     "metadata": {},
     "output_type": "execute_result"
    }
   ],
   "source": [
    "model.score(X,Y)"
   ]
  },
  {
   "cell_type": "markdown",
   "id": "0ffa447e",
   "metadata": {
    "papermill": {
     "duration": 0.037102,
     "end_time": "2022-03-13T14:18:04.534739",
     "exception": false,
     "start_time": "2022-03-13T14:18:04.497637",
     "status": "completed"
    },
    "tags": []
   },
   "source": [
    "# Using sklearn one hot encoding"
   ]
  },
  {
   "cell_type": "code",
   "execution_count": 11,
   "id": "a96f89f2",
   "metadata": {
    "execution": {
     "iopub.execute_input": "2022-03-13T14:18:04.612338Z",
     "iopub.status.busy": "2022-03-13T14:18:04.611580Z",
     "iopub.status.idle": "2022-03-13T14:18:04.613969Z",
     "shell.execute_reply": "2022-03-13T14:18:04.614593Z",
     "shell.execute_reply.started": "2022-03-13T14:16:53.802697Z"
    },
    "papermill": {
     "duration": 0.040341,
     "end_time": "2022-03-13T14:18:04.614790",
     "exception": false,
     "start_time": "2022-03-13T14:18:04.574449",
     "status": "completed"
    },
    "tags": []
   },
   "outputs": [],
   "source": [
    "from sklearn.preprocessing import LabelEncoder\n",
    "le = LabelEncoder()"
   ]
  },
  {
   "cell_type": "code",
   "execution_count": 12,
   "id": "422bc99e",
   "metadata": {
    "execution": {
     "iopub.execute_input": "2022-03-13T14:18:04.691183Z",
     "iopub.status.busy": "2022-03-13T14:18:04.685456Z",
     "iopub.status.idle": "2022-03-13T14:18:04.693257Z",
     "shell.execute_reply": "2022-03-13T14:18:04.693829Z",
     "shell.execute_reply.started": "2022-03-13T14:16:53.853772Z"
    },
    "papermill": {
     "duration": 0.044607,
     "end_time": "2022-03-13T14:18:04.693990",
     "exception": false,
     "start_time": "2022-03-13T14:18:04.649383",
     "status": "completed"
    },
    "tags": []
   },
   "outputs": [
    {
     "data": {
      "text/html": [
       "<div>\n",
       "<style scoped>\n",
       "    .dataframe tbody tr th:only-of-type {\n",
       "        vertical-align: middle;\n",
       "    }\n",
       "\n",
       "    .dataframe tbody tr th {\n",
       "        vertical-align: top;\n",
       "    }\n",
       "\n",
       "    .dataframe thead th {\n",
       "        text-align: right;\n",
       "    }\n",
       "</style>\n",
       "<table border=\"1\" class=\"dataframe\">\n",
       "  <thead>\n",
       "    <tr style=\"text-align: right;\">\n",
       "      <th></th>\n",
       "      <th>town</th>\n",
       "      <th>area</th>\n",
       "      <th>price</th>\n",
       "    </tr>\n",
       "  </thead>\n",
       "  <tbody>\n",
       "    <tr>\n",
       "      <th>0</th>\n",
       "      <td>0</td>\n",
       "      <td>2600</td>\n",
       "      <td>550000</td>\n",
       "    </tr>\n",
       "    <tr>\n",
       "      <th>1</th>\n",
       "      <td>0</td>\n",
       "      <td>3000</td>\n",
       "      <td>565000</td>\n",
       "    </tr>\n",
       "    <tr>\n",
       "      <th>2</th>\n",
       "      <td>0</td>\n",
       "      <td>3200</td>\n",
       "      <td>610000</td>\n",
       "    </tr>\n",
       "    <tr>\n",
       "      <th>3</th>\n",
       "      <td>0</td>\n",
       "      <td>3600</td>\n",
       "      <td>680000</td>\n",
       "    </tr>\n",
       "    <tr>\n",
       "      <th>4</th>\n",
       "      <td>0</td>\n",
       "      <td>4000</td>\n",
       "      <td>725000</td>\n",
       "    </tr>\n",
       "    <tr>\n",
       "      <th>5</th>\n",
       "      <td>2</td>\n",
       "      <td>2600</td>\n",
       "      <td>585000</td>\n",
       "    </tr>\n",
       "    <tr>\n",
       "      <th>6</th>\n",
       "      <td>2</td>\n",
       "      <td>2800</td>\n",
       "      <td>615000</td>\n",
       "    </tr>\n",
       "    <tr>\n",
       "      <th>7</th>\n",
       "      <td>2</td>\n",
       "      <td>3300</td>\n",
       "      <td>650000</td>\n",
       "    </tr>\n",
       "    <tr>\n",
       "      <th>8</th>\n",
       "      <td>2</td>\n",
       "      <td>3600</td>\n",
       "      <td>710000</td>\n",
       "    </tr>\n",
       "    <tr>\n",
       "      <th>9</th>\n",
       "      <td>1</td>\n",
       "      <td>2600</td>\n",
       "      <td>575000</td>\n",
       "    </tr>\n",
       "    <tr>\n",
       "      <th>10</th>\n",
       "      <td>1</td>\n",
       "      <td>2900</td>\n",
       "      <td>600000</td>\n",
       "    </tr>\n",
       "    <tr>\n",
       "      <th>11</th>\n",
       "      <td>1</td>\n",
       "      <td>3100</td>\n",
       "      <td>620000</td>\n",
       "    </tr>\n",
       "    <tr>\n",
       "      <th>12</th>\n",
       "      <td>1</td>\n",
       "      <td>3600</td>\n",
       "      <td>695000</td>\n",
       "    </tr>\n",
       "  </tbody>\n",
       "</table>\n",
       "</div>"
      ],
      "text/plain": [
       "    town  area   price\n",
       "0      0  2600  550000\n",
       "1      0  3000  565000\n",
       "2      0  3200  610000\n",
       "3      0  3600  680000\n",
       "4      0  4000  725000\n",
       "5      2  2600  585000\n",
       "6      2  2800  615000\n",
       "7      2  3300  650000\n",
       "8      2  3600  710000\n",
       "9      1  2600  575000\n",
       "10     1  2900  600000\n",
       "11     1  3100  620000\n",
       "12     1  3600  695000"
      ]
     },
     "execution_count": 12,
     "metadata": {},
     "output_type": "execute_result"
    }
   ],
   "source": [
    "dfle = df\n",
    "dfle.town = le.fit_transform(dfle.town)\n",
    "dfle"
   ]
  },
  {
   "cell_type": "code",
   "execution_count": 13,
   "id": "ba798101",
   "metadata": {
    "execution": {
     "iopub.execute_input": "2022-03-13T14:18:04.765988Z",
     "iopub.status.busy": "2022-03-13T14:18:04.765293Z",
     "iopub.status.idle": "2022-03-13T14:18:04.770450Z",
     "shell.execute_reply": "2022-03-13T14:18:04.771030Z",
     "shell.execute_reply.started": "2022-03-13T14:16:53.901385Z"
    },
    "papermill": {
     "duration": 0.042787,
     "end_time": "2022-03-13T14:18:04.771208",
     "exception": false,
     "start_time": "2022-03-13T14:18:04.728421",
     "status": "completed"
    },
    "tags": []
   },
   "outputs": [
    {
     "data": {
      "text/plain": [
       "array([[   0, 2600],\n",
       "       [   0, 3000],\n",
       "       [   0, 3200],\n",
       "       [   0, 3600],\n",
       "       [   0, 4000],\n",
       "       [   2, 2600],\n",
       "       [   2, 2800],\n",
       "       [   2, 3300],\n",
       "       [   2, 3600],\n",
       "       [   1, 2600],\n",
       "       [   1, 2900],\n",
       "       [   1, 3100],\n",
       "       [   1, 3600]])"
      ]
     },
     "execution_count": 13,
     "metadata": {},
     "output_type": "execute_result"
    }
   ],
   "source": [
    "X = dfle[['town','area']].values\n",
    "X"
   ]
  },
  {
   "cell_type": "code",
   "execution_count": 14,
   "id": "f489144d",
   "metadata": {
    "execution": {
     "iopub.execute_input": "2022-03-13T14:18:04.844185Z",
     "iopub.status.busy": "2022-03-13T14:18:04.843543Z",
     "iopub.status.idle": "2022-03-13T14:18:04.848661Z",
     "shell.execute_reply": "2022-03-13T14:18:04.849259Z",
     "shell.execute_reply.started": "2022-03-13T14:16:53.928257Z"
    },
    "papermill": {
     "duration": 0.043046,
     "end_time": "2022-03-13T14:18:04.849416",
     "exception": false,
     "start_time": "2022-03-13T14:18:04.806370",
     "status": "completed"
    },
    "tags": []
   },
   "outputs": [
    {
     "data": {
      "text/plain": [
       "0     550000\n",
       "1     565000\n",
       "2     610000\n",
       "3     680000\n",
       "4     725000\n",
       "5     585000\n",
       "6     615000\n",
       "7     650000\n",
       "8     710000\n",
       "9     575000\n",
       "10    600000\n",
       "11    620000\n",
       "12    695000\n",
       "Name: price, dtype: int64"
      ]
     },
     "execution_count": 14,
     "metadata": {},
     "output_type": "execute_result"
    }
   ],
   "source": [
    "y = dfle.price\n",
    "y"
   ]
  },
  {
   "cell_type": "code",
   "execution_count": 15,
   "id": "3611298c",
   "metadata": {
    "execution": {
     "iopub.execute_input": "2022-03-13T14:18:04.925554Z",
     "iopub.status.busy": "2022-03-13T14:18:04.924856Z",
     "iopub.status.idle": "2022-03-13T14:18:04.934259Z",
     "shell.execute_reply": "2022-03-13T14:18:04.933725Z",
     "shell.execute_reply.started": "2022-03-13T14:16:56.407930Z"
    },
    "papermill": {
     "duration": 0.049485,
     "end_time": "2022-03-13T14:18:04.934397",
     "exception": false,
     "start_time": "2022-03-13T14:18:04.884912",
     "status": "completed"
    },
    "tags": []
   },
   "outputs": [],
   "source": [
    "from sklearn.preprocessing import OneHotEncoder\n",
    "from sklearn.compose import ColumnTransformer\n",
    "ct = ColumnTransformer([('town',OneHotEncoder(),[0])],remainder='passthrough')"
   ]
  },
  {
   "cell_type": "code",
   "execution_count": 16,
   "id": "07e340bf",
   "metadata": {
    "execution": {
     "iopub.execute_input": "2022-03-13T14:18:04.985415Z",
     "iopub.status.busy": "2022-03-13T14:18:04.984841Z",
     "iopub.status.idle": "2022-03-13T14:18:04.992446Z",
     "shell.execute_reply": "2022-03-13T14:18:04.993022Z",
     "shell.execute_reply.started": "2022-03-13T14:16:56.415113Z"
    },
    "papermill": {
     "duration": 0.034962,
     "end_time": "2022-03-13T14:18:04.993225",
     "exception": false,
     "start_time": "2022-03-13T14:18:04.958263",
     "status": "completed"
    },
    "tags": []
   },
   "outputs": [
    {
     "data": {
      "text/plain": [
       "array([[1.0e+00, 0.0e+00, 0.0e+00, 2.6e+03],\n",
       "       [1.0e+00, 0.0e+00, 0.0e+00, 3.0e+03],\n",
       "       [1.0e+00, 0.0e+00, 0.0e+00, 3.2e+03],\n",
       "       [1.0e+00, 0.0e+00, 0.0e+00, 3.6e+03],\n",
       "       [1.0e+00, 0.0e+00, 0.0e+00, 4.0e+03],\n",
       "       [0.0e+00, 0.0e+00, 1.0e+00, 2.6e+03],\n",
       "       [0.0e+00, 0.0e+00, 1.0e+00, 2.8e+03],\n",
       "       [0.0e+00, 0.0e+00, 1.0e+00, 3.3e+03],\n",
       "       [0.0e+00, 0.0e+00, 1.0e+00, 3.6e+03],\n",
       "       [0.0e+00, 1.0e+00, 0.0e+00, 2.6e+03],\n",
       "       [0.0e+00, 1.0e+00, 0.0e+00, 2.9e+03],\n",
       "       [0.0e+00, 1.0e+00, 0.0e+00, 3.1e+03],\n",
       "       [0.0e+00, 1.0e+00, 0.0e+00, 3.6e+03]])"
      ]
     },
     "execution_count": 16,
     "metadata": {},
     "output_type": "execute_result"
    }
   ],
   "source": [
    "X = ct.fit_transform(X)\n",
    "X"
   ]
  },
  {
   "cell_type": "code",
   "execution_count": 17,
   "id": "412d1019",
   "metadata": {
    "execution": {
     "iopub.execute_input": "2022-03-13T14:18:05.072207Z",
     "iopub.status.busy": "2022-03-13T14:18:05.071535Z",
     "iopub.status.idle": "2022-03-13T14:18:05.074284Z",
     "shell.execute_reply": "2022-03-13T14:18:05.074771Z",
     "shell.execute_reply.started": "2022-03-13T14:16:56.463333Z"
    },
    "papermill": {
     "duration": 0.045446,
     "end_time": "2022-03-13T14:18:05.074901",
     "exception": false,
     "start_time": "2022-03-13T14:18:05.029455",
     "status": "completed"
    },
    "tags": []
   },
   "outputs": [
    {
     "data": {
      "text/plain": [
       "array([[0.0e+00, 0.0e+00, 2.6e+03],\n",
       "       [0.0e+00, 0.0e+00, 3.0e+03],\n",
       "       [0.0e+00, 0.0e+00, 3.2e+03],\n",
       "       [0.0e+00, 0.0e+00, 3.6e+03],\n",
       "       [0.0e+00, 0.0e+00, 4.0e+03],\n",
       "       [0.0e+00, 1.0e+00, 2.6e+03],\n",
       "       [0.0e+00, 1.0e+00, 2.8e+03],\n",
       "       [0.0e+00, 1.0e+00, 3.3e+03],\n",
       "       [0.0e+00, 1.0e+00, 3.6e+03],\n",
       "       [1.0e+00, 0.0e+00, 2.6e+03],\n",
       "       [1.0e+00, 0.0e+00, 2.9e+03],\n",
       "       [1.0e+00, 0.0e+00, 3.1e+03],\n",
       "       [1.0e+00, 0.0e+00, 3.6e+03]])"
      ]
     },
     "execution_count": 17,
     "metadata": {},
     "output_type": "execute_result"
    }
   ],
   "source": [
    "X = X[:,1:]\n",
    "X"
   ]
  },
  {
   "cell_type": "code",
   "execution_count": 18,
   "id": "216b8e5f",
   "metadata": {
    "execution": {
     "iopub.execute_input": "2022-03-13T14:18:05.125955Z",
     "iopub.status.busy": "2022-03-13T14:18:05.125265Z",
     "iopub.status.idle": "2022-03-13T14:18:05.131094Z",
     "shell.execute_reply": "2022-03-13T14:18:05.131608Z",
     "shell.execute_reply.started": "2022-03-13T14:16:56.471196Z"
    },
    "papermill": {
     "duration": 0.033014,
     "end_time": "2022-03-13T14:18:05.131742",
     "exception": false,
     "start_time": "2022-03-13T14:18:05.098728",
     "status": "completed"
    },
    "tags": []
   },
   "outputs": [
    {
     "data": {
      "text/plain": [
       "LinearRegression()"
      ]
     },
     "execution_count": 18,
     "metadata": {},
     "output_type": "execute_result"
    }
   ],
   "source": [
    "model.fit(X,y)"
   ]
  },
  {
   "cell_type": "code",
   "execution_count": 19,
   "id": "af2a17e6",
   "metadata": {
    "execution": {
     "iopub.execute_input": "2022-03-13T14:18:05.182483Z",
     "iopub.status.busy": "2022-03-13T14:18:05.181935Z",
     "iopub.status.idle": "2022-03-13T14:18:05.186738Z",
     "shell.execute_reply": "2022-03-13T14:18:05.187201Z",
     "shell.execute_reply.started": "2022-03-13T14:16:56.486531Z"
    },
    "papermill": {
     "duration": 0.031709,
     "end_time": "2022-03-13T14:18:05.187361",
     "exception": false,
     "start_time": "2022-03-13T14:18:05.155652",
     "status": "completed"
    },
    "tags": []
   },
   "outputs": [
    {
     "data": {
      "text/plain": [
       "array([681241.6684584])"
      ]
     },
     "execution_count": 19,
     "metadata": {},
     "output_type": "execute_result"
    }
   ],
   "source": [
    "# 3400 sqr ft home in west windsor\n",
    "model.predict([[0,1,3400]])"
   ]
  },
  {
   "cell_type": "code",
   "execution_count": 20,
   "id": "f93f9267",
   "metadata": {
    "execution": {
     "iopub.execute_input": "2022-03-13T14:18:05.240220Z",
     "iopub.status.busy": "2022-03-13T14:18:05.239665Z",
     "iopub.status.idle": "2022-03-13T14:18:05.244030Z",
     "shell.execute_reply": "2022-03-13T14:18:05.244485Z",
     "shell.execute_reply.started": "2022-03-13T14:16:56.496957Z"
    },
    "papermill": {
     "duration": 0.032364,
     "end_time": "2022-03-13T14:18:05.244644",
     "exception": false,
     "start_time": "2022-03-13T14:18:05.212280",
     "status": "completed"
    },
    "tags": []
   },
   "outputs": [
    {
     "data": {
      "text/plain": [
       "array([590775.63964739])"
      ]
     },
     "execution_count": 20,
     "metadata": {},
     "output_type": "execute_result"
    }
   ],
   "source": [
    "# 2800 sqr ft home in robbinsville\n",
    "model.predict([[1,0,2800]])"
   ]
  }
 ],
 "metadata": {
  "kernelspec": {
   "display_name": "Python 3",
   "language": "python",
   "name": "python3"
  },
  "language_info": {
   "codemirror_mode": {
    "name": "ipython",
    "version": 3
   },
   "file_extension": ".py",
   "mimetype": "text/x-python",
   "name": "python",
   "nbconvert_exporter": "python",
   "pygments_lexer": "ipython3",
   "version": "3.7.12"
  },
  "papermill": {
   "default_parameters": {},
   "duration": 10.985762,
   "end_time": "2022-03-13T14:18:05.979361",
   "environment_variables": {},
   "exception": null,
   "input_path": "__notebook__.ipynb",
   "output_path": "__notebook__.ipynb",
   "parameters": {},
   "start_time": "2022-03-13T14:17:54.993599",
   "version": "2.3.3"
  }
 },
 "nbformat": 4,
 "nbformat_minor": 5
}

{
 "cells": [
  {
   "cell_type": "markdown",
   "id": "a7f75aa4",
   "metadata": {
    "papermill": {
     "duration": 0.017312,
     "end_time": "2022-04-23T07:15:58.876621",
     "exception": false,
     "start_time": "2022-04-23T07:15:58.859309",
     "status": "completed"
    },
    "tags": []
   },
   "source": [
    "**PCA or principal component analysis is a dimensionality reduction technique that can help us reduce dimensions of dataset that we use in machine learning for training. It helps with famous dimensionality curse problem.**"
   ]
  },
  {
   "cell_type": "code",
   "execution_count": 1,
   "id": "1db4d6cc",
   "metadata": {
    "_cell_guid": "b1076dfc-b9ad-4769-8c92-a6c4dae69d19",
    "_uuid": "8f2839f25d086af736a60e9eeb907d3b93b6e0e5",
    "execution": {
     "iopub.execute_input": "2022-04-23T07:15:58.912240Z",
     "iopub.status.busy": "2022-04-23T07:15:58.911774Z",
     "iopub.status.idle": "2022-04-23T07:16:00.148667Z",
     "shell.execute_reply": "2022-04-23T07:16:00.147983Z"
    },
    "papermill": {
     "duration": 1.258032,
     "end_time": "2022-04-23T07:16:00.151199",
     "exception": false,
     "start_time": "2022-04-23T07:15:58.893167",
     "status": "completed"
    },
    "tags": []
   },
   "outputs": [],
   "source": [
    "import pandas as pd\n",
    "import numpy as np\n",
    "\n",
    "from sklearn.datasets import load_digits"
   ]
  },
  {
   "cell_type": "code",
   "execution_count": 2,
   "id": "a0e1ad93",
   "metadata": {
    "execution": {
     "iopub.execute_input": "2022-04-23T07:16:00.184904Z",
     "iopub.status.busy": "2022-04-23T07:16:00.184606Z",
     "iopub.status.idle": "2022-04-23T07:16:00.269988Z",
     "shell.execute_reply": "2022-04-23T07:16:00.269068Z"
    },
    "papermill": {
     "duration": 0.105163,
     "end_time": "2022-04-23T07:16:00.272457",
     "exception": false,
     "start_time": "2022-04-23T07:16:00.167294",
     "status": "completed"
    },
    "tags": []
   },
   "outputs": [
    {
     "data": {
      "text/plain": [
       "['DESCR', 'data', 'feature_names', 'frame', 'images', 'target', 'target_names']"
      ]
     },
     "execution_count": 2,
     "metadata": {},
     "output_type": "execute_result"
    }
   ],
   "source": [
    "digits = load_digits()\n",
    "dir(digits)"
   ]
  },
  {
   "cell_type": "code",
   "execution_count": 3,
   "id": "b4a04a08",
   "metadata": {
    "execution": {
     "iopub.execute_input": "2022-04-23T07:16:00.306806Z",
     "iopub.status.busy": "2022-04-23T07:16:00.306032Z",
     "iopub.status.idle": "2022-04-23T07:16:00.313138Z",
     "shell.execute_reply": "2022-04-23T07:16:00.312271Z"
    },
    "papermill": {
     "duration": 0.02621,
     "end_time": "2022-04-23T07:16:00.315021",
     "exception": false,
     "start_time": "2022-04-23T07:16:00.288811",
     "status": "completed"
    },
    "tags": []
   },
   "outputs": [
    {
     "data": {
      "text/plain": [
       "array([ 0.,  0.,  5., 13.,  9.,  1.,  0.,  0.,  0.,  0., 13., 15., 10.,\n",
       "       15.,  5.,  0.,  0.,  3., 15.,  2.,  0., 11.,  8.,  0.,  0.,  4.,\n",
       "       12.,  0.,  0.,  8.,  8.,  0.,  0.,  5.,  8.,  0.,  0.,  9.,  8.,\n",
       "        0.,  0.,  4., 11.,  0.,  1., 12.,  7.,  0.,  0.,  2., 14.,  5.,\n",
       "       10., 12.,  0.,  0.,  0.,  0.,  6., 13., 10.,  0.,  0.,  0.])"
      ]
     },
     "execution_count": 3,
     "metadata": {},
     "output_type": "execute_result"
    }
   ],
   "source": [
    "digits.data[0]"
   ]
  },
  {
   "cell_type": "code",
   "execution_count": 4,
   "id": "ec5bf789",
   "metadata": {
    "execution": {
     "iopub.execute_input": "2022-04-23T07:16:00.349822Z",
     "iopub.status.busy": "2022-04-23T07:16:00.349468Z",
     "iopub.status.idle": "2022-04-23T07:16:00.356029Z",
     "shell.execute_reply": "2022-04-23T07:16:00.355156Z"
    },
    "papermill": {
     "duration": 0.027008,
     "end_time": "2022-04-23T07:16:00.358430",
     "exception": false,
     "start_time": "2022-04-23T07:16:00.331422",
     "status": "completed"
    },
    "tags": []
   },
   "outputs": [
    {
     "data": {
      "text/plain": [
       "array([[ 0.,  0.,  5., 13.,  9.,  1.,  0.,  0.],\n",
       "       [ 0.,  0., 13., 15., 10., 15.,  5.,  0.],\n",
       "       [ 0.,  3., 15.,  2.,  0., 11.,  8.,  0.],\n",
       "       [ 0.,  4., 12.,  0.,  0.,  8.,  8.,  0.],\n",
       "       [ 0.,  5.,  8.,  0.,  0.,  9.,  8.,  0.],\n",
       "       [ 0.,  4., 11.,  0.,  1., 12.,  7.,  0.],\n",
       "       [ 0.,  2., 14.,  5., 10., 12.,  0.,  0.],\n",
       "       [ 0.,  0.,  6., 13., 10.,  0.,  0.,  0.]])"
      ]
     },
     "execution_count": 4,
     "metadata": {},
     "output_type": "execute_result"
    }
   ],
   "source": [
    "digits.data[0].reshape(8,8)"
   ]
  },
  {
   "cell_type": "code",
   "execution_count": 5,
   "id": "cfe03402",
   "metadata": {
    "execution": {
     "iopub.execute_input": "2022-04-23T07:16:00.393800Z",
     "iopub.status.busy": "2022-04-23T07:16:00.393249Z",
     "iopub.status.idle": "2022-04-23T07:16:00.698540Z",
     "shell.execute_reply": "2022-04-23T07:16:00.697513Z"
    },
    "papermill": {
     "duration": 0.330462,
     "end_time": "2022-04-23T07:16:00.705676",
     "exception": false,
     "start_time": "2022-04-23T07:16:00.375214",
     "status": "completed"
    },
    "tags": []
   },
   "outputs": [
    {
     "data": {
      "text/plain": [
       "<matplotlib.image.AxesImage at 0x7f208b116f50>"
      ]
     },
     "execution_count": 5,
     "metadata": {},
     "output_type": "execute_result"
    },
    {
     "data": {
      "text/plain": [
       "<Figure size 432x288 with 0 Axes>"
      ]
     },
     "metadata": {},
     "output_type": "display_data"
    },
    {
     "data": {
      "image/png": "[encoded data removed]",
      "text/plain": [
       "<Figure size 288x288 with 1 Axes>"
      ]
     },
     "metadata": {
      "needs_background": "light"
     },
     "output_type": "display_data"
    }
   ],
   "source": [
    "from matplotlib import pyplot as plt\n",
    "plt.gray()\n",
    "plt.matshow(digits.data[0].reshape(8,8))"
   ]
  },
  {
   "cell_type": "code",
   "execution_count": 6,
   "id": "f7117844",
   "metadata": {
    "execution": {
     "iopub.execute_input": "2022-04-23T07:16:00.779033Z",
     "iopub.status.busy": "2022-04-23T07:16:00.778721Z",
     "iopub.status.idle": "2022-04-23T07:16:00.785837Z",
     "shell.execute_reply": "2022-04-23T07:16:00.785035Z"
    },
    "papermill": {
     "duration": 0.029989,
     "end_time": "2022-04-23T07:16:00.787877",
     "exception": false,
     "start_time": "2022-04-23T07:16:00.757888",
     "status": "completed"
    },
    "tags": []
   },
   "outputs": [
    {
     "data": {
      "text/plain": [
       "array([0, 1, 2, 3, 4, 5, 6, 7, 8, 9])"
      ]
     },
     "execution_count": 6,
     "metadata": {},
     "output_type": "execute_result"
    }
   ],
   "source": [
    "np.unique(digits.target)"
   ]
  },
  {
   "cell_type": "code",
   "execution_count": 7,
   "id": "d26eb39d",
   "metadata": {
    "execution": {
     "iopub.execute_input": "2022-04-23T07:16:00.836112Z",
     "iopub.status.busy": "2022-04-23T07:16:00.835407Z",
     "iopub.status.idle": "2022-04-23T07:16:00.876247Z",
     "shell.execute_reply": "2022-04-23T07:16:00.875578Z"
    },
    "papermill": {
     "duration": 0.071263,
     "end_time": "2022-04-23T07:16:00.878917",
     "exception": false,
     "start_time": "2022-04-23T07:16:00.807654",
     "status": "completed"
    },
    "tags": []
   },
   "outputs": [
    {
     "data": {
      "text/html": [
       "<div>\n",
       "<style scoped>\n",
       "    .dataframe tbody tr th:only-of-type {\n",
       "        vertical-align: middle;\n",
       "    }\n",
       "\n",
       "    .dataframe tbody tr th {\n",
       "        vertical-align: top;\n",
       "    }\n",
       "\n",
       "    .dataframe thead th {\n",
       "        text-align: right;\n",
       "    }\n",
       "</style>\n",
       "<table border=\"1\" class=\"dataframe\">\n",
       "  <thead>\n",
       "    <tr style=\"text-align: right;\">\n",
       "      <th></th>\n",
       "      <th>pixel_0_0</th>\n",
       "      <th>pixel_0_1</th>\n",
       "      <th>pixel_0_2</th>\n",
       "      <th>pixel_0_3</th>\n",
       "      <th>pixel_0_4</th>\n",
       "      <th>pixel_0_5</th>\n",
       "      <th>pixel_0_6</th>\n",
       "      <th>pixel_0_7</th>\n",
       "      <th>pixel_1_0</th>\n",
       "      <th>pixel_1_1</th>\n",
       "      <th>...</th>\n",
       "      <th>pixel_6_6</th>\n",
       "      <th>pixel_6_7</th>\n",
       "      <th>pixel_7_0</th>\n",
       "      <th>pixel_7_1</th>\n",
       "      <th>pixel_7_2</th>\n",
       "      <th>pixel_7_3</th>\n",
       "      <th>pixel_7_4</th>\n",
       "      <th>pixel_7_5</th>\n",
       "      <th>pixel_7_6</th>\n",
       "      <th>pixel_7_7</th>\n",
       "    </tr>\n",
       "  </thead>\n",
       "  <tbody>\n",
       "    <tr>\n",
       "      <th>0</th>\n",
       "      <td>0.0</td>\n",
       "      <td>0.0</td>\n",
       "      <td>5.0</td>\n",
       "      <td>13.0</td>\n",
       "      <td>9.0</td>\n",
       "      <td>1.0</td>\n",
       "      <td>0.0</td>\n",
       "      <td>0.0</td>\n",
       "      <td>0.0</td>\n",
       "      <td>0.0</td>\n",
       "      <td>...</td>\n",
       "      <td>0.0</td>\n",
       "      <td>0.0</td>\n",
       "      <td>0.0</td>\n",
       "      <td>0.0</td>\n",
       "      <td>6.0</td>\n",
       "      <td>13.0</td>\n",
       "      <td>10.0</td>\n",
       "      <td>0.0</td>\n",
       "      <td>0.0</td>\n",
       "      <td>0.0</td>\n",
       "    </tr>\n",
       "    <tr>\n",
       "      <th>1</th>\n",
       "      <td>0.0</td>\n",
       "      <td>0.0</td>\n",
       "      <td>0.0</td>\n",
       "      <td>12.0</td>\n",
       "      <td>13.0</td>\n",
       "      <td>5.0</td>\n",
       "      <td>0.0</td>\n",
       "      <td>0.0</td>\n",
       "      <td>0.0</td>\n",
       "      <td>0.0</td>\n",
       "      <td>...</td>\n",
       "      <td>0.0</td>\n",
       "      <td>0.0</td>\n",
       "      <td>0.0</td>\n",
       "      <td>0.0</td>\n",
       "      <td>0.0</td>\n",
       "      <td>11.0</td>\n",
       "      <td>16.0</td>\n",
       "      <td>10.0</td>\n",
       "      <td>0.0</td>\n",
       "      <td>0.0</td>\n",
       "    </tr>\n",
       "    <tr>\n",
       "      <th>2</th>\n",
       "      <td>0.0</td>\n",
       "      <td>0.0</td>\n",
       "      <td>0.0</td>\n",
       "      <td>4.0</td>\n",
       "      <td>15.0</td>\n",
       "      <td>12.0</td>\n",
       "      <td>0.0</td>\n",
       "      <td>0.0</td>\n",
       "      <td>0.0</td>\n",
       "      <td>0.0</td>\n",
       "      <td>...</td>\n",
       "      <td>5.0</td>\n",
       "      <td>0.0</td>\n",
       "      <td>0.0</td>\n",
       "      <td>0.0</td>\n",
       "      <td>0.0</td>\n",
       "      <td>3.0</td>\n",
       "      <td>11.0</td>\n",
       "      <td>16.0</td>\n",
       "      <td>9.0</td>\n",
       "      <td>0.0</td>\n",
       "    </tr>\n",
       "  </tbody>\n",
       "</table>\n",
       "<p>3 rows × 64 columns</p>\n",
       "</div>"
      ],
      "text/plain": [
       "   pixel_0_0  pixel_0_1  pixel_0_2  pixel_0_3  pixel_0_4  pixel_0_5  \\\n",
       "0        0.0        0.0        5.0       13.0        9.0        1.0   \n",
       "1        0.0        0.0        0.0       12.0       13.0        5.0   \n",
       "2        0.0        0.0        0.0        4.0       15.0       12.0   \n",
       "\n",
       "   pixel_0_6  pixel_0_7  pixel_1_0  pixel_1_1  ...  pixel_6_6  pixel_6_7  \\\n",
       "0        0.0        0.0        0.0        0.0  ...        0.0        0.0   \n",
       "1        0.0        0.0        0.0        0.0  ...        0.0        0.0   \n",
       "2        0.0        0.0        0.0        0.0  ...        5.0        0.0   \n",
       "\n",
       "   pixel_7_0  pixel_7_1  pixel_7_2  pixel_7_3  pixel_7_4  pixel_7_5  \\\n",
       "0        0.0        0.0        6.0       13.0       10.0        0.0   \n",
       "1        0.0        0.0        0.0       11.0       16.0       10.0   \n",
       "2        0.0        0.0        0.0        3.0       11.0       16.0   \n",
       "\n",
       "   pixel_7_6  pixel_7_7  \n",
       "0        0.0        0.0  \n",
       "1        0.0        0.0  \n",
       "2        9.0        0.0  \n",
       "\n",
       "[3 rows x 64 columns]"
      ]
     },
     "execution_count": 7,
     "metadata": {},
     "output_type": "execute_result"
    }
   ],
   "source": [
    "df = pd.DataFrame(digits.data, columns = digits.feature_names)\n",
    "df.head(3)"
   ]
  },
  {
   "cell_type": "code",
   "execution_count": 8,
   "id": "7b8184bc",
   "metadata": {
    "execution": {
     "iopub.execute_input": "2022-04-23T07:16:00.927324Z",
     "iopub.status.busy": "2022-04-23T07:16:00.926581Z",
     "iopub.status.idle": "2022-04-23T07:16:00.931236Z",
     "shell.execute_reply": "2022-04-23T07:16:00.930248Z"
    },
    "papermill": {
     "duration": 0.028239,
     "end_time": "2022-04-23T07:16:00.933441",
     "exception": false,
     "start_time": "2022-04-23T07:16:00.905202",
     "status": "completed"
    },
    "tags": []
   },
   "outputs": [],
   "source": [
    "X = df\n",
    "y = digits.target"
   ]
  },
  {
   "cell_type": "markdown",
   "id": "acaeae03",
   "metadata": {
    "papermill": {
     "duration": 0.027151,
     "end_time": "2022-04-23T07:16:00.981128",
     "exception": false,
     "start_time": "2022-04-23T07:16:00.953977",
     "status": "completed"
    },
    "tags": []
   },
   "source": [
    "**Using StandardScaler**"
   ]
  },
  {
   "cell_type": "code",
   "execution_count": 9,
   "id": "d0ae3a67",
   "metadata": {
    "execution": {
     "iopub.execute_input": "2022-04-23T07:16:01.023619Z",
     "iopub.status.busy": "2022-04-23T07:16:01.023314Z",
     "iopub.status.idle": "2022-04-23T07:16:01.036268Z",
     "shell.execute_reply": "2022-04-23T07:16:01.035649Z"
    },
    "papermill": {
     "duration": 0.038459,
     "end_time": "2022-04-23T07:16:01.038422",
     "exception": false,
     "start_time": "2022-04-23T07:16:00.999963",
     "status": "completed"
    },
    "tags": []
   },
   "outputs": [
    {
     "data": {
      "text/plain": [
       "array([[ 0.        , -0.33501649, -0.04308102, ..., -1.14664746,\n",
       "        -0.5056698 , -0.19600752],\n",
       "       [ 0.        , -0.33501649, -1.09493684, ...,  0.54856067,\n",
       "        -0.5056698 , -0.19600752],\n",
       "       [ 0.        , -0.33501649, -1.09493684, ...,  1.56568555,\n",
       "         1.6951369 , -0.19600752],\n",
       "       ...,\n",
       "       [ 0.        , -0.33501649, -0.88456568, ..., -0.12952258,\n",
       "        -0.5056698 , -0.19600752],\n",
       "       [ 0.        , -0.33501649, -0.67419451, ...,  0.8876023 ,\n",
       "        -0.5056698 , -0.19600752],\n",
       "       [ 0.        , -0.33501649,  1.00877481, ...,  0.8876023 ,\n",
       "        -0.26113572, -0.19600752]])"
      ]
     },
     "execution_count": 9,
     "metadata": {},
     "output_type": "execute_result"
    }
   ],
   "source": [
    "from sklearn.preprocessing import StandardScaler\n",
    "scaler = StandardScaler()\n",
    "\n",
    "X_scaled = scaler.fit_transform(X)\n",
    "X_scaled"
   ]
  },
  {
   "cell_type": "markdown",
   "id": "666411ab",
   "metadata": {
    "papermill": {
     "duration": 0.020434,
     "end_time": "2022-04-23T07:16:01.082863",
     "exception": false,
     "start_time": "2022-04-23T07:16:01.062429",
     "status": "completed"
    },
    "tags": []
   },
   "source": [
    "**Splitting the data**"
   ]
  },
  {
   "cell_type": "code",
   "execution_count": 10,
   "id": "20fc03eb",
   "metadata": {
    "execution": {
     "iopub.execute_input": "2022-04-23T07:16:01.126861Z",
     "iopub.status.busy": "2022-04-23T07:16:01.126129Z",
     "iopub.status.idle": "2022-04-23T07:16:01.200798Z",
     "shell.execute_reply": "2022-04-23T07:16:01.199949Z"
    },
    "papermill": {
     "duration": 0.098598,
     "end_time": "2022-04-23T07:16:01.203009",
     "exception": false,
     "start_time": "2022-04-23T07:16:01.104411",
     "status": "completed"
    },
    "tags": []
   },
   "outputs": [],
   "source": [
    "from sklearn.model_selection import train_test_split\n",
    "X_train, X_test, y_train, y_test = train_test_split(X_scaled, y, test_size=0.2, random_state=5)"
   ]
  },
  {
   "cell_type": "markdown",
   "id": "f3b51994",
   "metadata": {
    "papermill": {
     "duration": 0.018633,
     "end_time": "2022-04-23T07:16:01.240819",
     "exception": false,
     "start_time": "2022-04-23T07:16:01.222186",
     "status": "completed"
    },
    "tags": []
   },
   "source": [
    "**Creating the model**"
   ]
  },
  {
   "cell_type": "code",
   "execution_count": 11,
   "id": "6bdb8a8f",
   "metadata": {
    "execution": {
     "iopub.execute_input": "2022-04-23T07:16:01.280931Z",
     "iopub.status.busy": "2022-04-23T07:16:01.280328Z",
     "iopub.status.idle": "2022-04-23T07:16:01.719451Z",
     "shell.execute_reply": "2022-04-23T07:16:01.718102Z"
    },
    "papermill": {
     "duration": 0.46303,
     "end_time": "2022-04-23T07:16:01.722693",
     "exception": false,
     "start_time": "2022-04-23T07:16:01.259663",
     "status": "completed"
    },
    "tags": []
   },
   "outputs": [
    {
     "data": {
      "text/plain": [
       "0.9611111111111111"
      ]
     },
     "execution_count": 11,
     "metadata": {},
     "output_type": "execute_result"
    }
   ],
   "source": [
    "from sklearn.linear_model import LogisticRegression\n",
    "model = LogisticRegression()\n",
    "model.fit(X_train, y_train)\n",
    "\n",
    "model.score(X_test, y_test)"
   ]
  },
  {
   "cell_type": "markdown",
   "id": "ae9d2c6d",
   "metadata": {
    "papermill": {
     "duration": 0.03999,
     "end_time": "2022-04-23T07:16:01.802483",
     "exception": false,
     "start_time": "2022-04-23T07:16:01.762493",
     "status": "completed"
    },
    "tags": []
   },
   "source": [
    "# **Using PCA to reduce dimensions**"
   ]
  },
  {
   "cell_type": "code",
   "execution_count": 12,
   "id": "c82e0a1d",
   "metadata": {
    "execution": {
     "iopub.execute_input": "2022-04-23T07:16:01.857838Z",
     "iopub.status.busy": "2022-04-23T07:16:01.857557Z",
     "iopub.status.idle": "2022-04-23T07:16:01.914596Z",
     "shell.execute_reply": "2022-04-23T07:16:01.913652Z"
    },
    "papermill": {
     "duration": 0.080479,
     "end_time": "2022-04-23T07:16:01.916831",
     "exception": false,
     "start_time": "2022-04-23T07:16:01.836352",
     "status": "completed"
    },
    "tags": []
   },
   "outputs": [
    {
     "data": {
      "text/plain": [
       "(1797, 29)"
      ]
     },
     "execution_count": 12,
     "metadata": {},
     "output_type": "execute_result"
    }
   ],
   "source": [
    "from sklearn.decomposition import PCA\n",
    "pca = PCA(0.95)  # 95% of the variance retained and instead we can also provide the number of columns that we require.\n",
    "X_pca = pca.fit_transform(X)\n",
    "X_pca.shape"
   ]
  },
  {
   "cell_type": "code",
   "execution_count": 13,
   "id": "ef81d98d",
   "metadata": {
    "execution": {
     "iopub.execute_input": "2022-04-23T07:16:02.005807Z",
     "iopub.status.busy": "2022-04-23T07:16:02.004213Z",
     "iopub.status.idle": "2022-04-23T07:16:02.017124Z",
     "shell.execute_reply": "2022-04-23T07:16:02.015981Z"
    },
    "papermill": {
     "duration": 0.060888,
     "end_time": "2022-04-23T07:16:02.020631",
     "exception": false,
     "start_time": "2022-04-23T07:16:01.959743",
     "status": "completed"
    },
    "tags": []
   },
   "outputs": [
    {
     "data": {
      "text/plain": [
       "(1797, 64)"
      ]
     },
     "execution_count": 13,
     "metadata": {},
     "output_type": "execute_result"
    }
   ],
   "source": [
    "X.shape"
   ]
  },
  {
   "cell_type": "markdown",
   "id": "c2a8f09e",
   "metadata": {
    "papermill": {
     "duration": 0.020399,
     "end_time": "2022-04-23T07:16:02.066438",
     "exception": false,
     "start_time": "2022-04-23T07:16:02.046039",
     "status": "completed"
    },
    "tags": []
   },
   "source": [
    "**Here above we can see that the columns are reduced from 64 to 29 which is a good thing**"
   ]
  },
  {
   "cell_type": "markdown",
   "id": "491856d3",
   "metadata": {
    "papermill": {
     "duration": 0.019696,
     "end_time": "2022-04-23T07:16:02.106538",
     "exception": false,
     "start_time": "2022-04-23T07:16:02.086842",
     "status": "completed"
    },
    "tags": []
   },
   "source": [
    "**Splitting the data**"
   ]
  },
  {
   "cell_type": "code",
   "execution_count": 14,
   "id": "7a8ab355",
   "metadata": {
    "execution": {
     "iopub.execute_input": "2022-04-23T07:16:02.147724Z",
     "iopub.status.busy": "2022-04-23T07:16:02.147471Z",
     "iopub.status.idle": "2022-04-23T07:16:02.152580Z",
     "shell.execute_reply": "2022-04-23T07:16:02.151672Z"
    },
    "papermill": {
     "duration": 0.028333,
     "end_time": "2022-04-23T07:16:02.154737",
     "exception": false,
     "start_time": "2022-04-23T07:16:02.126404",
     "status": "completed"
    },
    "tags": []
   },
   "outputs": [],
   "source": [
    "X_train_pca, X_test_pca, y_train_pca, y_test_pca = train_test_split(X_pca, y, test_size=0.2, random_state=5)"
   ]
  },
  {
   "cell_type": "markdown",
   "id": "6db949f8",
   "metadata": {
    "papermill": {
     "duration": 0.019994,
     "end_time": "2022-04-23T07:16:02.196016",
     "exception": false,
     "start_time": "2022-04-23T07:16:02.176022",
     "status": "completed"
    },
    "tags": []
   },
   "source": [
    "**Creating the model**"
   ]
  },
  {
   "cell_type": "code",
   "execution_count": 15,
   "id": "3dab0a36",
   "metadata": {
    "execution": {
     "iopub.execute_input": "2022-04-23T07:16:02.237788Z",
     "iopub.status.busy": "2022-04-23T07:16:02.237233Z",
     "iopub.status.idle": "2022-04-23T07:16:03.903618Z",
     "shell.execute_reply": "2022-04-23T07:16:03.902638Z"
    },
    "papermill": {
     "duration": 1.690846,
     "end_time": "2022-04-23T07:16:03.906651",
     "exception": false,
     "start_time": "2022-04-23T07:16:02.215805",
     "status": "completed"
    },
    "tags": []
   },
   "outputs": [
    {
     "data": {
      "text/plain": [
       "LogisticRegression(max_iter=1000)"
      ]
     },
     "execution_count": 15,
     "metadata": {},
     "output_type": "execute_result"
    }
   ],
   "source": [
    "from sklearn.linear_model import LogisticRegression\n",
    "model_pca = LogisticRegression(max_iter=1000)\n",
    "model_pca.fit(X_train_pca, y_train_pca)"
   ]
  },
  {
   "cell_type": "code",
   "execution_count": 16,
   "id": "adaf15e4",
   "metadata": {
    "execution": {
     "iopub.execute_input": "2022-04-23T07:16:03.991345Z",
     "iopub.status.busy": "2022-04-23T07:16:03.990900Z",
     "iopub.status.idle": "2022-04-23T07:16:04.005513Z",
     "shell.execute_reply": "2022-04-23T07:16:04.004564Z"
    },
    "papermill": {
     "duration": 0.061792,
     "end_time": "2022-04-23T07:16:04.009168",
     "exception": false,
     "start_time": "2022-04-23T07:16:03.947376",
     "status": "completed"
    },
    "tags": []
   },
   "outputs": [
    {
     "data": {
      "text/plain": [
       "0.9527777777777777"
      ]
     },
     "execution_count": 16,
     "metadata": {},
     "output_type": "execute_result"
    }
   ],
   "source": [
    "model_pca.score(X_test_pca,y_test_pca)"
   ]
  }
 ],
 "metadata": {
  "kernelspec": {
   "display_name": "Python 3",
   "language": "python",
   "name": "python3"
  },
  "language_info": {
   "codemirror_mode": {
    "name": "ipython",
    "version": 3
   },
   "file_extension": ".py",
   "mimetype": "text/x-python",
   "name": "python",
   "nbconvert_exporter": "python",
   "pygments_lexer": "ipython3",
   "version": "3.7.12"
  },
  "papermill": {
   "default_parameters": {},
   "duration": 14.976854,
   "end_time": "2022-04-23T07:16:04.755064",
   "environment_variables": {},
   "exception": null,
   "input_path": "__notebook__.ipynb",
   "output_path": "__notebook__.ipynb",
   "parameters": {},
   "start_time": "2022-04-23T07:15:49.778210",
   "version": "2.3.4"
  }
 },
 "nbformat": 4,
 "nbformat_minor": 5
}

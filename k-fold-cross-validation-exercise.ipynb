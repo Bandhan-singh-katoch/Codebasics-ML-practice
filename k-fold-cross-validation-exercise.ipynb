{
 "cells": [
  {
   "cell_type": "code",
   "execution_count": 1,
   "id": "ed8f8f5b",
   "metadata": {
    "_cell_guid": "b1076dfc-b9ad-4769-8c92-a6c4dae69d19",
    "_uuid": "8f2839f25d086af736a60e9eeb907d3b93b6e0e5",
    "execution": {
     "iopub.execute_input": "2022-04-16T06:20:52.460449Z",
     "iopub.status.busy": "2022-04-16T06:20:52.460013Z",
     "iopub.status.idle": "2022-04-16T06:20:54.076817Z",
     "shell.execute_reply": "2022-04-16T06:20:54.076041Z"
    },
    "papermill": {
     "duration": 1.633555,
     "end_time": "2022-04-16T06:20:54.079456",
     "exception": false,
     "start_time": "2022-04-16T06:20:52.445901",
     "status": "completed"
    },
    "tags": []
   },
   "outputs": [],
   "source": [
    "from sklearn.linear_model import LogisticRegression\n",
    "from sklearn.svm import SVC\n",
    "from sklearn.ensemble import RandomForestClassifier\n",
    "from sklearn.tree import DecisionTreeClassifier\n",
    "import numpy as np\n",
    "\n",
    "from sklearn.datasets import load_iris\n",
    "from sklearn.model_selection import cross_val_score"
   ]
  },
  {
   "cell_type": "code",
   "execution_count": 2,
   "id": "64d95972",
   "metadata": {
    "execution": {
     "iopub.execute_input": "2022-04-16T06:20:54.103205Z",
     "iopub.status.busy": "2022-04-16T06:20:54.102544Z",
     "iopub.status.idle": "2022-04-16T06:20:54.119604Z",
     "shell.execute_reply": "2022-04-16T06:20:54.118672Z"
    },
    "papermill": {
     "duration": 0.032625,
     "end_time": "2022-04-16T06:20:54.123047",
     "exception": false,
     "start_time": "2022-04-16T06:20:54.090422",
     "status": "completed"
    },
    "tags": []
   },
   "outputs": [
    {
     "data": {
      "text/plain": [
       "['DESCR',\n",
       " 'data',\n",
       " 'data_module',\n",
       " 'feature_names',\n",
       " 'filename',\n",
       " 'frame',\n",
       " 'target',\n",
       " 'target_names']"
      ]
     },
     "execution_count": 2,
     "metadata": {},
     "output_type": "execute_result"
    }
   ],
   "source": [
    "iris = load_iris()\n",
    "dir(iris)"
   ]
  },
  {
   "cell_type": "markdown",
   "id": "ec600b9c",
   "metadata": {
    "papermill": {
     "duration": 0.010716,
     "end_time": "2022-04-16T06:20:54.145148",
     "exception": false,
     "start_time": "2022-04-16T06:20:54.134432",
     "status": "completed"
    },
    "tags": []
   },
   "source": [
    "**For Logistic Regression**"
   ]
  },
  {
   "cell_type": "code",
   "execution_count": 3,
   "id": "e1aca43f",
   "metadata": {
    "execution": {
     "iopub.execute_input": "2022-04-16T06:20:54.169530Z",
     "iopub.status.busy": "2022-04-16T06:20:54.168723Z",
     "iopub.status.idle": "2022-04-16T06:20:54.192646Z",
     "shell.execute_reply": "2022-04-16T06:20:54.191781Z"
    },
    "papermill": {
     "duration": 0.038828,
     "end_time": "2022-04-16T06:20:54.195063",
     "exception": false,
     "start_time": "2022-04-16T06:20:54.156235",
     "status": "completed"
    },
    "tags": []
   },
   "outputs": [
    {
     "data": {
      "text/plain": [
       "0.9533333333333333"
      ]
     },
     "execution_count": 3,
     "metadata": {},
     "output_type": "execute_result"
    }
   ],
   "source": [
    "score_lr = cross_val_score(LogisticRegression(solver='liblinear'), iris.data, iris.target, cv=3)\n",
    "np.average(score_lr)"
   ]
  },
  {
   "cell_type": "markdown",
   "id": "f5886531",
   "metadata": {
    "papermill": {
     "duration": 0.01128,
     "end_time": "2022-04-16T06:20:54.217955",
     "exception": false,
     "start_time": "2022-04-16T06:20:54.206675",
     "status": "completed"
    },
    "tags": []
   },
   "source": [
    "**For SVM**"
   ]
  },
  {
   "cell_type": "code",
   "execution_count": 4,
   "id": "f58a4f57",
   "metadata": {
    "execution": {
     "iopub.execute_input": "2022-04-16T06:20:54.243148Z",
     "iopub.status.busy": "2022-04-16T06:20:54.242659Z",
     "iopub.status.idle": "2022-04-16T06:20:54.257439Z",
     "shell.execute_reply": "2022-04-16T06:20:54.256564Z"
    },
    "papermill": {
     "duration": 0.030212,
     "end_time": "2022-04-16T06:20:54.259659",
     "exception": false,
     "start_time": "2022-04-16T06:20:54.229447",
     "status": "completed"
    },
    "tags": []
   },
   "outputs": [
    {
     "data": {
      "text/plain": [
       "0.96"
      ]
     },
     "execution_count": 4,
     "metadata": {},
     "output_type": "execute_result"
    }
   ],
   "source": [
    "score_svm = cross_val_score(SVC(), iris.data, iris.target, cv=3)\n",
    "np.average(score_svm)"
   ]
  },
  {
   "cell_type": "markdown",
   "id": "4d68c041",
   "metadata": {
    "papermill": {
     "duration": 0.011456,
     "end_time": "2022-04-16T06:20:54.283133",
     "exception": false,
     "start_time": "2022-04-16T06:20:54.271677",
     "status": "completed"
    },
    "tags": []
   },
   "source": [
    "**For Decision Tree**"
   ]
  },
  {
   "cell_type": "code",
   "execution_count": 5,
   "id": "ea460b68",
   "metadata": {
    "execution": {
     "iopub.execute_input": "2022-04-16T06:20:54.308988Z",
     "iopub.status.busy": "2022-04-16T06:20:54.308289Z",
     "iopub.status.idle": "2022-04-16T06:20:54.323520Z",
     "shell.execute_reply": "2022-04-16T06:20:54.322631Z"
    },
    "papermill": {
     "duration": 0.031795,
     "end_time": "2022-04-16T06:20:54.326651",
     "exception": false,
     "start_time": "2022-04-16T06:20:54.294856",
     "status": "completed"
    },
    "tags": []
   },
   "outputs": [
    {
     "data": {
      "text/plain": [
       "0.9666666666666667"
      ]
     },
     "execution_count": 5,
     "metadata": {},
     "output_type": "execute_result"
    }
   ],
   "source": [
    "score_dt = cross_val_score(DecisionTreeClassifier(), iris.data, iris.target, cv=3)\n",
    "np.average(score_dt)"
   ]
  },
  {
   "cell_type": "markdown",
   "id": "6996d164",
   "metadata": {
    "papermill": {
     "duration": 0.011994,
     "end_time": "2022-04-16T06:20:54.350859",
     "exception": false,
     "start_time": "2022-04-16T06:20:54.338865",
     "status": "completed"
    },
    "tags": []
   },
   "source": [
    "**For Random Forest**"
   ]
  },
  {
   "cell_type": "code",
   "execution_count": 6,
   "id": "e7ba8156",
   "metadata": {
    "execution": {
     "iopub.execute_input": "2022-04-16T06:20:54.376986Z",
     "iopub.status.busy": "2022-04-16T06:20:54.376617Z",
     "iopub.status.idle": "2022-04-16T06:20:54.809104Z",
     "shell.execute_reply": "2022-04-16T06:20:54.808195Z"
    },
    "papermill": {
     "duration": 0.448171,
     "end_time": "2022-04-16T06:20:54.811291",
     "exception": false,
     "start_time": "2022-04-16T06:20:54.363120",
     "status": "completed"
    },
    "tags": []
   },
   "outputs": [
    {
     "data": {
      "text/plain": [
       "0.96"
      ]
     },
     "execution_count": 6,
     "metadata": {},
     "output_type": "execute_result"
    }
   ],
   "source": [
    "score_rf = cross_val_score(RandomForestClassifier(n_estimators=80), iris.data, iris.target, cv=3)\n",
    "np.average(score_rf)"
   ]
  },
  {
   "cell_type": "markdown",
   "id": "bc33143c",
   "metadata": {
    "papermill": {
     "duration": 0.013458,
     "end_time": "2022-04-16T06:20:54.837341",
     "exception": false,
     "start_time": "2022-04-16T06:20:54.823883",
     "status": "completed"
    },
    "tags": []
   },
   "source": [
    "**Best score is for Decision tree i.e. 0.9666666666666667**"
   ]
  }
 ],
 "metadata": {
  "kernelspec": {
   "display_name": "Python 3",
   "language": "python",
   "name": "python3"
  },
  "language_info": {
   "codemirror_mode": {
    "name": "ipython",
    "version": 3
   },
   "file_extension": ".py",
   "mimetype": "text/x-python",
   "name": "python",
   "nbconvert_exporter": "python",
   "pygments_lexer": "ipython3",
   "version": "3.7.12"
  },
  "papermill": {
   "default_parameters": {},
   "duration": 14.929283,
   "end_time": "2022-04-16T06:20:55.874402",
   "environment_variables": {},
   "exception": null,
   "input_path": "__notebook__.ipynb",
   "output_path": "__notebook__.ipynb",
   "parameters": {},
   "start_time": "2022-04-16T06:20:40.945119",
   "version": "2.3.4"
  }
 },
 "nbformat": 4,
 "nbformat_minor": 5
}

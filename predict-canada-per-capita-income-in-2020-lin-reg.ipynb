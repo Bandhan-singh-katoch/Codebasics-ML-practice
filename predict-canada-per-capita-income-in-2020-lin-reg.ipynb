{
 "cells": [
  {
   "cell_type": "code",
   "execution_count": 1,
   "id": "a88eac66",
   "metadata": {
    "_cell_guid": "b1076dfc-b9ad-4769-8c92-a6c4dae69d19",
    "_uuid": "8f2839f25d086af736a60e9eeb907d3b93b6e0e5",
    "execution": {
     "iopub.execute_input": "2022-02-22T17:18:00.210864Z",
     "iopub.status.busy": "2022-02-22T17:18:00.210203Z",
     "iopub.status.idle": "2022-02-22T17:18:01.407512Z",
     "shell.execute_reply": "2022-02-22T17:18:01.406674Z",
     "shell.execute_reply.started": "2022-02-22T17:16:43.830340Z"
    },
    "papermill": {
     "duration": 1.215138,
     "end_time": "2022-02-22T17:18:01.407699",
     "exception": false,
     "start_time": "2022-02-22T17:18:00.192561",
     "status": "completed"
    },
    "tags": []
   },
   "outputs": [],
   "source": [
    "import pandas as pd\n",
    "import numpy as np\n",
    "from matplotlib import pyplot as plt\n",
    "from sklearn import linear_model"
   ]
  },
  {
   "cell_type": "code",
   "execution_count": 2,
   "id": "13fa70b9",
   "metadata": {
    "execution": {
     "iopub.execute_input": "2022-02-22T17:18:01.427071Z",
     "iopub.status.busy": "2022-02-22T17:18:01.426349Z",
     "iopub.status.idle": "2022-02-22T17:18:01.453000Z",
     "shell.execute_reply": "2022-02-22T17:18:01.453512Z",
     "shell.execute_reply.started": "2022-02-22T17:16:43.951435Z"
    },
    "papermill": {
     "duration": 0.038829,
     "end_time": "2022-02-22T17:18:01.453693",
     "exception": false,
     "start_time": "2022-02-22T17:18:01.414864",
     "status": "completed"
    },
    "tags": []
   },
   "outputs": [
    {
     "data": {
      "text/html": [
       "<div>\n",
       "<style scoped>\n",
       "    .dataframe tbody tr th:only-of-type {\n",
       "        vertical-align: middle;\n",
       "    }\n",
       "\n",
       "    .dataframe tbody tr th {\n",
       "        vertical-align: top;\n",
       "    }\n",
       "\n",
       "    .dataframe thead th {\n",
       "        text-align: right;\n",
       "    }\n",
       "</style>\n",
       "<table border=\"1\" class=\"dataframe\">\n",
       "  <thead>\n",
       "    <tr style=\"text-align: right;\">\n",
       "      <th></th>\n",
       "      <th>year</th>\n",
       "      <th>per capita income (US$)</th>\n",
       "    </tr>\n",
       "  </thead>\n",
       "  <tbody>\n",
       "    <tr>\n",
       "      <th>0</th>\n",
       "      <td>1970</td>\n",
       "      <td>3399.299037</td>\n",
       "    </tr>\n",
       "    <tr>\n",
       "      <th>1</th>\n",
       "      <td>1971</td>\n",
       "      <td>3768.297935</td>\n",
       "    </tr>\n",
       "    <tr>\n",
       "      <th>2</th>\n",
       "      <td>1972</td>\n",
       "      <td>4251.175484</td>\n",
       "    </tr>\n",
       "  </tbody>\n",
       "</table>\n",
       "</div>"
      ],
      "text/plain": [
       "   year  per capita income (US$)\n",
       "0  1970              3399.299037\n",
       "1  1971              3768.297935\n",
       "2  1972              4251.175484"
      ]
     },
     "execution_count": 2,
     "metadata": {},
     "output_type": "execute_result"
    }
   ],
   "source": [
    "df = pd.read_csv(\"../input/canada-per-capita-income/canada_per_capita_income.csv\")\n",
    "df.head(3)"
   ]
  },
  {
   "cell_type": "code",
   "execution_count": 3,
   "id": "a83b7ed5",
   "metadata": {
    "execution": {
     "iopub.execute_input": "2022-02-22T17:18:01.479355Z",
     "iopub.status.busy": "2022-02-22T17:18:01.475870Z",
     "iopub.status.idle": "2022-02-22T17:18:01.686346Z",
     "shell.execute_reply": "2022-02-22T17:18:01.686935Z",
     "shell.execute_reply.started": "2022-02-22T17:16:43.973889Z"
    },
    "papermill": {
     "duration": 0.22597,
     "end_time": "2022-02-22T17:18:01.687124",
     "exception": false,
     "start_time": "2022-02-22T17:18:01.461154",
     "status": "completed"
    },
    "tags": []
   },
   "outputs": [
    {
     "data": {
      "text/plain": [
       "<matplotlib.collections.PathCollection at 0x7ff7a21243d0>"
      ]
     },
     "execution_count": 3,
     "metadata": {},
     "output_type": "execute_result"
    },
    {
     "data": {
      "image/png": "[encoded data removed]",
      "text/plain": [
       "<Figure size 432x288 with 1 Axes>"
      ]
     },
     "metadata": {
      "needs_background": "light"
     },
     "output_type": "display_data"
    }
   ],
   "source": [
    "%matplotlib inline\n",
    "plt.xlabel(\"Year\")\n",
    "plt.ylabel(\"per capita income\")\n",
    "plt.scatter(df.year,df['per capita income (US$)'])"
   ]
  },
  {
   "cell_type": "code",
   "execution_count": 4,
   "id": "5cdc56d9",
   "metadata": {
    "execution": {
     "iopub.execute_input": "2022-02-22T17:18:01.725158Z",
     "iopub.status.busy": "2022-02-22T17:18:01.706468Z",
     "iopub.status.idle": "2022-02-22T17:18:01.733258Z",
     "shell.execute_reply": "2022-02-22T17:18:01.733749Z",
     "shell.execute_reply.started": "2022-02-22T17:16:44.202047Z"
    },
    "papermill": {
     "duration": 0.038423,
     "end_time": "2022-02-22T17:18:01.733923",
     "exception": false,
     "start_time": "2022-02-22T17:18:01.695500",
     "status": "completed"
    },
    "tags": []
   },
   "outputs": [
    {
     "data": {
      "text/plain": [
       "LinearRegression()"
      ]
     },
     "execution_count": 4,
     "metadata": {},
     "output_type": "execute_result"
    }
   ],
   "source": [
    "reg = linear_model.LinearRegression()\n",
    "reg.fit(df[['year']],df[\"per capita income (US$)\"])"
   ]
  },
  {
   "cell_type": "code",
   "execution_count": 5,
   "id": "b994550d",
   "metadata": {
    "execution": {
     "iopub.execute_input": "2022-02-22T17:18:01.755028Z",
     "iopub.status.busy": "2022-02-22T17:18:01.754284Z",
     "iopub.status.idle": "2022-02-22T17:18:01.759804Z",
     "shell.execute_reply": "2022-02-22T17:18:01.760400Z",
     "shell.execute_reply.started": "2022-02-22T17:16:44.214684Z"
    },
    "papermill": {
     "duration": 0.017744,
     "end_time": "2022-02-22T17:18:01.760575",
     "exception": false,
     "start_time": "2022-02-22T17:18:01.742831",
     "status": "completed"
    },
    "tags": []
   },
   "outputs": [
    {
     "data": {
      "text/plain": [
       "array([41288.69409442])"
      ]
     },
     "execution_count": 5,
     "metadata": {},
     "output_type": "execute_result"
    }
   ],
   "source": [
    "reg.predict([[2020]])"
   ]
  }
 ],
 "metadata": {
  "kernelspec": {
   "display_name": "Python 3",
   "language": "python",
   "name": "python3"
  },
  "language_info": {
   "codemirror_mode": {
    "name": "ipython",
    "version": 3
   },
   "file_extension": ".py",
   "mimetype": "text/x-python",
   "name": "python",
   "nbconvert_exporter": "python",
   "pygments_lexer": "ipython3",
   "version": "3.7.12"
  },
  "papermill": {
   "default_parameters": {},
   "duration": 12.401521,
   "end_time": "2022-02-22T17:18:02.483024",
   "environment_variables": {},
   "exception": null,
   "input_path": "__notebook__.ipynb",
   "output_path": "__notebook__.ipynb",
   "parameters": {},
   "start_time": "2022-02-22T17:17:50.081503",
   "version": "2.3.3"
  }
 },
 "nbformat": 4,
 "nbformat_minor": 5
}

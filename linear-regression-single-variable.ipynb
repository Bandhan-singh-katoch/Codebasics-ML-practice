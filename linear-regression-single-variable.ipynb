{
 "cells": [
  {
   "cell_type": "code",
   "execution_count": 1,
   "id": "11f22c4f",
   "metadata": {
    "execution": {
     "iopub.execute_input": "2022-02-22T15:13:35.099326Z",
     "iopub.status.busy": "2022-02-22T15:13:35.098114Z",
     "iopub.status.idle": "2022-02-22T15:13:36.398215Z",
     "shell.execute_reply": "2022-02-22T15:13:36.398762Z",
     "shell.execute_reply.started": "2022-02-22T14:56:34.607598Z"
    },
    "papermill": {
     "duration": 1.318293,
     "end_time": "2022-02-22T15:13:36.399142",
     "exception": false,
     "start_time": "2022-02-22T15:13:35.080849",
     "status": "completed"
    },
    "tags": []
   },
   "outputs": [],
   "source": [
    "import pandas as pd\n",
    "import numpy as np\n",
    "import matplotlib.pyplot as plt\n",
    "from sklearn import linear_model"
   ]
  },
  {
   "cell_type": "code",
   "execution_count": 2,
   "id": "d8986459",
   "metadata": {
    "execution": {
     "iopub.execute_input": "2022-02-22T15:13:36.426653Z",
     "iopub.status.busy": "2022-02-22T15:13:36.425990Z",
     "iopub.status.idle": "2022-02-22T15:13:36.456928Z",
     "shell.execute_reply": "2022-02-22T15:13:36.457460Z",
     "shell.execute_reply.started": "2022-02-22T14:56:34.630950Z"
    },
    "papermill": {
     "duration": 0.045511,
     "end_time": "2022-02-22T15:13:36.457652",
     "exception": false,
     "start_time": "2022-02-22T15:13:36.412141",
     "status": "completed"
    },
    "tags": []
   },
   "outputs": [
    {
     "data": {
      "text/html": [
       "<div>\n",
       "<style scoped>\n",
       "    .dataframe tbody tr th:only-of-type {\n",
       "        vertical-align: middle;\n",
       "    }\n",
       "\n",
       "    .dataframe tbody tr th {\n",
       "        vertical-align: top;\n",
       "    }\n",
       "\n",
       "    .dataframe thead th {\n",
       "        text-align: right;\n",
       "    }\n",
       "</style>\n",
       "<table border=\"1\" class=\"dataframe\">\n",
       "  <thead>\n",
       "    <tr style=\"text-align: right;\">\n",
       "      <th></th>\n",
       "      <th>area</th>\n",
       "      <th>price</th>\n",
       "    </tr>\n",
       "  </thead>\n",
       "  <tbody>\n",
       "    <tr>\n",
       "      <th>0</th>\n",
       "      <td>2600</td>\n",
       "      <td>550000</td>\n",
       "    </tr>\n",
       "    <tr>\n",
       "      <th>1</th>\n",
       "      <td>3000</td>\n",
       "      <td>565000</td>\n",
       "    </tr>\n",
       "    <tr>\n",
       "      <th>2</th>\n",
       "      <td>3200</td>\n",
       "      <td>610000</td>\n",
       "    </tr>\n",
       "    <tr>\n",
       "      <th>3</th>\n",
       "      <td>3600</td>\n",
       "      <td>680000</td>\n",
       "    </tr>\n",
       "    <tr>\n",
       "      <th>4</th>\n",
       "      <td>4000</td>\n",
       "      <td>725000</td>\n",
       "    </tr>\n",
       "  </tbody>\n",
       "</table>\n",
       "</div>"
      ],
      "text/plain": [
       "   area   price\n",
       "0  2600  550000\n",
       "1  3000  565000\n",
       "2  3200  610000\n",
       "3  3600  680000\n",
       "4  4000  725000"
      ]
     },
     "execution_count": 2,
     "metadata": {},
     "output_type": "execute_result"
    }
   ],
   "source": [
    "df = pd.read_csv(\"../input/codebasics-practice/homeprices.csv\")\n",
    "df"
   ]
  },
  {
   "cell_type": "code",
   "execution_count": 3,
   "id": "023cd8a9",
   "metadata": {
    "execution": {
     "iopub.execute_input": "2022-02-22T15:13:36.483888Z",
     "iopub.status.busy": "2022-02-22T15:13:36.483206Z",
     "iopub.status.idle": "2022-02-22T15:13:36.749235Z",
     "shell.execute_reply": "2022-02-22T15:13:36.749819Z",
     "shell.execute_reply.started": "2022-02-22T14:56:34.644858Z"
    },
    "papermill": {
     "duration": 0.280715,
     "end_time": "2022-02-22T15:13:36.750028",
     "exception": false,
     "start_time": "2022-02-22T15:13:36.469313",
     "status": "completed"
    },
    "tags": []
   },
   "outputs": [
    {
     "data": {
      "text/plain": [
       "<matplotlib.collections.PathCollection at 0x7fbd5aa3a250>"
      ]
     },
     "execution_count": 3,
     "metadata": {},
     "output_type": "execute_result"
    },
    {
     "data": {
      "image/png": "[encoded data removed]",
      "text/plain": [
       "<Figure size 432x288 with 1 Axes>"
      ]
     },
     "metadata": {
      "needs_background": "light"
     },
     "output_type": "display_data"
    }
   ],
   "source": [
    "%matplotlib inline\n",
    "plt.xlabel(\"Area in sq ft\")\n",
    "plt.ylabel(\"Price in USD\")\n",
    "plt.scatter(df.area,df.price,color='red',marker='*')"
   ]
  },
  {
   "cell_type": "code",
   "execution_count": 4,
   "id": "eb6daa03",
   "metadata": {
    "execution": {
     "iopub.execute_input": "2022-02-22T15:13:36.778653Z",
     "iopub.status.busy": "2022-02-22T15:13:36.778030Z",
     "iopub.status.idle": "2022-02-22T15:13:36.804888Z",
     "shell.execute_reply": "2022-02-22T15:13:36.805393Z",
     "shell.execute_reply.started": "2022-02-22T14:56:34.828667Z"
    },
    "papermill": {
     "duration": 0.043375,
     "end_time": "2022-02-22T15:13:36.805998",
     "exception": false,
     "start_time": "2022-02-22T15:13:36.762623",
     "status": "completed"
    },
    "tags": []
   },
   "outputs": [
    {
     "data": {
      "text/plain": [
       "LinearRegression()"
      ]
     },
     "execution_count": 4,
     "metadata": {},
     "output_type": "execute_result"
    }
   ],
   "source": [
    "reg = linear_model.LinearRegression()\n",
    "reg.fit(df[['area']], df.price)"
   ]
  },
  {
   "cell_type": "code",
   "execution_count": 5,
   "id": "eb4ca700",
   "metadata": {
    "execution": {
     "iopub.execute_input": "2022-02-22T15:13:36.838974Z",
     "iopub.status.busy": "2022-02-22T15:13:36.838256Z",
     "iopub.status.idle": "2022-02-22T15:13:36.841020Z",
     "shell.execute_reply": "2022-02-22T15:13:36.841520Z",
     "shell.execute_reply.started": "2022-02-22T14:56:36.246526Z"
    },
    "papermill": {
     "duration": 0.022922,
     "end_time": "2022-02-22T15:13:36.841722",
     "exception": false,
     "start_time": "2022-02-22T15:13:36.818800",
     "status": "completed"
    },
    "tags": []
   },
   "outputs": [
    {
     "data": {
      "text/plain": [
       "array([547243.15068493])"
      ]
     },
     "execution_count": 5,
     "metadata": {},
     "output_type": "execute_result"
    }
   ],
   "source": [
    "reg.predict([[2700]])"
   ]
  },
  {
   "cell_type": "code",
   "execution_count": 6,
   "id": "410102b7",
   "metadata": {
    "execution": {
     "iopub.execute_input": "2022-02-22T15:13:36.907101Z",
     "iopub.status.busy": "2022-02-22T15:13:36.891268Z",
     "iopub.status.idle": "2022-02-22T15:13:37.122137Z",
     "shell.execute_reply": "2022-02-22T15:13:37.122790Z",
     "shell.execute_reply.started": "2022-02-22T15:01:41.156538Z"
    },
    "papermill": {
     "duration": 0.268167,
     "end_time": "2022-02-22T15:13:37.122966",
     "exception": false,
     "start_time": "2022-02-22T15:13:36.854799",
     "status": "completed"
    },
    "tags": []
   },
   "outputs": [
    {
     "data": {
      "text/plain": [
       "[<matplotlib.lines.Line2D at 0x7fbd588fc710>]"
      ]
     },
     "execution_count": 6,
     "metadata": {},
     "output_type": "execute_result"
    },
    {
     "data": {
      "image/png": "[encoded data removed]",
      "text/plain": [
       "<Figure size 432x288 with 1 Axes>"
      ]
     },
     "metadata": {
      "needs_background": "light"
     },
     "output_type": "display_data"
    }
   ],
   "source": [
    "%matplotlib inline\n",
    "plt.xlabel(\"Area\", fontsize=15)\n",
    "plt.ylabel('Price', fontsize=15)\n",
    "plt.scatter(df.area,df.price, color='red',marker='*')\n",
    "plt.plot(df.area, reg.predict(df[[\"area\"]]))"
   ]
  },
  {
   "cell_type": "code",
   "execution_count": 7,
   "id": "cf199b88",
   "metadata": {
    "execution": {
     "iopub.execute_input": "2022-02-22T15:13:37.158072Z",
     "iopub.status.busy": "2022-02-22T15:13:37.157328Z",
     "iopub.status.idle": "2022-02-22T15:13:37.170531Z",
     "shell.execute_reply": "2022-02-22T15:13:37.169567Z",
     "shell.execute_reply.started": "2022-02-22T14:56:38.952960Z"
    },
    "papermill": {
     "duration": 0.032833,
     "end_time": "2022-02-22T15:13:37.170681",
     "exception": false,
     "start_time": "2022-02-22T15:13:37.137848",
     "status": "completed"
    },
    "tags": []
   },
   "outputs": [
    {
     "data": {
      "text/html": [
       "<div>\n",
       "<style scoped>\n",
       "    .dataframe tbody tr th:only-of-type {\n",
       "        vertical-align: middle;\n",
       "    }\n",
       "\n",
       "    .dataframe tbody tr th {\n",
       "        vertical-align: top;\n",
       "    }\n",
       "\n",
       "    .dataframe thead th {\n",
       "        text-align: right;\n",
       "    }\n",
       "</style>\n",
       "<table border=\"1\" class=\"dataframe\">\n",
       "  <thead>\n",
       "    <tr style=\"text-align: right;\">\n",
       "      <th></th>\n",
       "      <th>area</th>\n",
       "    </tr>\n",
       "  </thead>\n",
       "  <tbody>\n",
       "    <tr>\n",
       "      <th>0</th>\n",
       "      <td>1000</td>\n",
       "    </tr>\n",
       "    <tr>\n",
       "      <th>1</th>\n",
       "      <td>1500</td>\n",
       "    </tr>\n",
       "    <tr>\n",
       "      <th>2</th>\n",
       "      <td>2300</td>\n",
       "    </tr>\n",
       "    <tr>\n",
       "      <th>3</th>\n",
       "      <td>3540</td>\n",
       "    </tr>\n",
       "  </tbody>\n",
       "</table>\n",
       "</div>"
      ],
      "text/plain": [
       "   area\n",
       "0  1000\n",
       "1  1500\n",
       "2  2300\n",
       "3  3540"
      ]
     },
     "execution_count": 7,
     "metadata": {},
     "output_type": "execute_result"
    }
   ],
   "source": [
    "d = pd.read_csv(\"../input/codebasics-practice/areas.csv\")\n",
    "d.head(4)"
   ]
  },
  {
   "cell_type": "code",
   "execution_count": 8,
   "id": "e25dbdb9",
   "metadata": {
    "execution": {
     "iopub.execute_input": "2022-02-22T15:13:37.205008Z",
     "iopub.status.busy": "2022-02-22T15:13:37.204293Z",
     "iopub.status.idle": "2022-02-22T15:13:37.209967Z",
     "shell.execute_reply": "2022-02-22T15:13:37.210437Z",
     "shell.execute_reply.started": "2022-02-22T14:56:38.966164Z"
    },
    "papermill": {
     "duration": 0.024472,
     "end_time": "2022-02-22T15:13:37.210625",
     "exception": false,
     "start_time": "2022-02-22T15:13:37.186153",
     "status": "completed"
    },
    "tags": []
   },
   "outputs": [],
   "source": [
    "p = reg.predict(d)\n",
    "d['prices'] = p"
   ]
  },
  {
   "cell_type": "code",
   "execution_count": 9,
   "id": "6d14db64",
   "metadata": {
    "execution": {
     "iopub.execute_input": "2022-02-22T15:13:37.245331Z",
     "iopub.status.busy": "2022-02-22T15:13:37.243442Z",
     "iopub.status.idle": "2022-02-22T15:13:37.250172Z",
     "shell.execute_reply": "2022-02-22T15:13:37.250754Z",
     "shell.execute_reply.started": "2022-02-22T14:56:44.181482Z"
    },
    "papermill": {
     "duration": 0.025186,
     "end_time": "2022-02-22T15:13:37.250926",
     "exception": false,
     "start_time": "2022-02-22T15:13:37.225740",
     "status": "completed"
    },
    "tags": []
   },
   "outputs": [],
   "source": [
    "d.to_csv(\"predicted.csv\")"
   ]
  }
 ],
 "metadata": {
  "kernelspec": {
   "display_name": "Python 3",
   "language": "python",
   "name": "python3"
  },
  "language_info": {
   "codemirror_mode": {
    "name": "ipython",
    "version": 3
   },
   "file_extension": ".py",
   "mimetype": "text/x-python",
   "name": "python",
   "nbconvert_exporter": "python",
   "pygments_lexer": "ipython3",
   "version": "3.7.12"
  },
  "papermill": {
   "default_parameters": {},
   "duration": 12.859485,
   "end_time": "2022-02-22T15:13:37.976959",
   "environment_variables": {},
   "exception": null,
   "input_path": "__notebook__.ipynb",
   "output_path": "__notebook__.ipynb",
   "parameters": {},
   "start_time": "2022-02-22T15:13:25.117474",
   "version": "2.3.3"
  }
 },
 "nbformat": 4,
 "nbformat_minor": 5
}

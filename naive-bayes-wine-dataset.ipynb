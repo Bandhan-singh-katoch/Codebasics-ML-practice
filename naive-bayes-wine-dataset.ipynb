{
 "cells": [
  {
   "cell_type": "markdown",
   "id": "8e62c116",
   "metadata": {
    "papermill": {
     "duration": 0.013478,
     "end_time": "2022-04-19T14:00:10.458986",
     "exception": false,
     "start_time": "2022-04-19T14:00:10.445508",
     "status": "completed"
    },
    "tags": []
   },
   "source": [
    "# Naive Bayes part 2 Exersice :- \n",
    "Use wine dataset from sklearn.datasets to classify wines into 3 categories. Load the dataset and split it into test and train. After that train the model using Gaussian and Multinominal classifier and post which model performs better. Use the trained model to perform some predictions on test data.**"
   ]
  },
  {
   "cell_type": "code",
   "execution_count": 1,
   "id": "479dd5e3",
   "metadata": {
    "_cell_guid": "b1076dfc-b9ad-4769-8c92-a6c4dae69d19",
    "_uuid": "8f2839f25d086af736a60e9eeb907d3b93b6e0e5",
    "execution": {
     "iopub.execute_input": "2022-04-19T14:00:10.484454Z",
     "iopub.status.busy": "2022-04-19T14:00:10.483890Z",
     "iopub.status.idle": "2022-04-19T14:00:11.673388Z",
     "shell.execute_reply": "2022-04-19T14:00:11.672323Z"
    },
    "papermill": {
     "duration": 1.205364,
     "end_time": "2022-04-19T14:00:11.676152",
     "exception": false,
     "start_time": "2022-04-19T14:00:10.470788",
     "status": "completed"
    },
    "tags": []
   },
   "outputs": [],
   "source": [
    "import pandas as pd\n",
    "from sklearn.datasets import load_wine"
   ]
  },
  {
   "cell_type": "code",
   "execution_count": 2,
   "id": "0c06e48c",
   "metadata": {
    "execution": {
     "iopub.execute_input": "2022-04-19T14:00:11.701503Z",
     "iopub.status.busy": "2022-04-19T14:00:11.700994Z",
     "iopub.status.idle": "2022-04-19T14:00:11.719062Z",
     "shell.execute_reply": "2022-04-19T14:00:11.718230Z"
    },
    "papermill": {
     "duration": 0.034426,
     "end_time": "2022-04-19T14:00:11.722256",
     "exception": false,
     "start_time": "2022-04-19T14:00:11.687830",
     "status": "completed"
    },
    "tags": []
   },
   "outputs": [
    {
     "data": {
      "text/plain": [
       "['DESCR', 'data', 'feature_names', 'frame', 'target', 'target_names']"
      ]
     },
     "execution_count": 2,
     "metadata": {},
     "output_type": "execute_result"
    }
   ],
   "source": [
    "wine = load_wine()\n",
    "dir(wine)"
   ]
  },
  {
   "cell_type": "code",
   "execution_count": 3,
   "id": "09a48aed",
   "metadata": {
    "execution": {
     "iopub.execute_input": "2022-04-19T14:00:11.748469Z",
     "iopub.status.busy": "2022-04-19T14:00:11.748066Z",
     "iopub.status.idle": "2022-04-19T14:00:11.753998Z",
     "shell.execute_reply": "2022-04-19T14:00:11.753287Z"
    },
    "papermill": {
     "duration": 0.021155,
     "end_time": "2022-04-19T14:00:11.755749",
     "exception": false,
     "start_time": "2022-04-19T14:00:11.734594",
     "status": "completed"
    },
    "tags": []
   },
   "outputs": [
    {
     "data": {
      "text/plain": [
       "['alcohol',\n",
       " 'malic_acid',\n",
       " 'ash',\n",
       " 'alcalinity_of_ash',\n",
       " 'magnesium',\n",
       " 'total_phenols',\n",
       " 'flavanoids',\n",
       " 'nonflavanoid_phenols',\n",
       " 'proanthocyanins',\n",
       " 'color_intensity',\n",
       " 'hue',\n",
       " 'od280/od315_of_diluted_wines',\n",
       " 'proline']"
      ]
     },
     "execution_count": 3,
     "metadata": {},
     "output_type": "execute_result"
    }
   ],
   "source": [
    "wine.feature_names"
   ]
  },
  {
   "cell_type": "code",
   "execution_count": 4,
   "id": "73bc053b",
   "metadata": {
    "execution": {
     "iopub.execute_input": "2022-04-19T14:00:11.782418Z",
     "iopub.status.busy": "2022-04-19T14:00:11.781907Z",
     "iopub.status.idle": "2022-04-19T14:00:11.790028Z",
     "shell.execute_reply": "2022-04-19T14:00:11.789187Z"
    },
    "papermill": {
     "duration": 0.023847,
     "end_time": "2022-04-19T14:00:11.791896",
     "exception": false,
     "start_time": "2022-04-19T14:00:11.768049",
     "status": "completed"
    },
    "tags": []
   },
   "outputs": [
    {
     "data": {
      "text/plain": [
       "array([0, 0, 0, 0, 0, 0, 0, 0, 0, 0, 0, 0, 0, 0, 0, 0, 0, 0, 0, 0, 0, 0,\n",
       "       0, 0, 0, 0, 0, 0, 0, 0, 0, 0, 0, 0, 0, 0, 0, 0, 0, 0, 0, 0, 0, 0,\n",
       "       0, 0, 0, 0, 0, 0, 0, 0, 0, 0, 0, 0, 0, 0, 0, 1, 1, 1, 1, 1, 1, 1,\n",
       "       1, 1, 1, 1, 1, 1, 1, 1, 1, 1, 1, 1, 1, 1, 1, 1, 1, 1, 1, 1, 1, 1,\n",
       "       1, 1, 1, 1, 1, 1, 1, 1, 1, 1, 1, 1, 1, 1, 1, 1, 1, 1, 1, 1, 1, 1,\n",
       "       1, 1, 1, 1, 1, 1, 1, 1, 1, 1, 1, 1, 1, 1, 1, 1, 1, 1, 1, 1, 2, 2,\n",
       "       2, 2, 2, 2, 2, 2, 2, 2, 2, 2, 2, 2, 2, 2, 2, 2, 2, 2, 2, 2, 2, 2,\n",
       "       2, 2, 2, 2, 2, 2, 2, 2, 2, 2, 2, 2, 2, 2, 2, 2, 2, 2, 2, 2, 2, 2,\n",
       "       2, 2])"
      ]
     },
     "execution_count": 4,
     "metadata": {},
     "output_type": "execute_result"
    }
   ],
   "source": [
    "wine.target"
   ]
  },
  {
   "cell_type": "code",
   "execution_count": 5,
   "id": "fd051990",
   "metadata": {
    "execution": {
     "iopub.execute_input": "2022-04-19T14:00:11.819174Z",
     "iopub.status.busy": "2022-04-19T14:00:11.818747Z",
     "iopub.status.idle": "2022-04-19T14:00:11.830878Z",
     "shell.execute_reply": "2022-04-19T14:00:11.830071Z"
    },
    "papermill": {
     "duration": 0.028512,
     "end_time": "2022-04-19T14:00:11.832983",
     "exception": false,
     "start_time": "2022-04-19T14:00:11.804471",
     "status": "completed"
    },
    "tags": []
   },
   "outputs": [],
   "source": [
    "df = pd.DataFrame(wine.data,columns=wine.feature_names)\n",
    "df_input = df\n",
    "df['target'] = wine.target"
   ]
  },
  {
   "cell_type": "code",
   "execution_count": 6,
   "id": "df79021d",
   "metadata": {
    "execution": {
     "iopub.execute_input": "2022-04-19T14:00:11.861468Z",
     "iopub.status.busy": "2022-04-19T14:00:11.861054Z",
     "iopub.status.idle": "2022-04-19T14:00:11.889676Z",
     "shell.execute_reply": "2022-04-19T14:00:11.888984Z"
    },
    "papermill": {
     "duration": 0.04537,
     "end_time": "2022-04-19T14:00:11.891646",
     "exception": false,
     "start_time": "2022-04-19T14:00:11.846276",
     "status": "completed"
    },
    "tags": []
   },
   "outputs": [
    {
     "data": {
      "text/html": [
       "<div>\n",
       "<style scoped>\n",
       "    .dataframe tbody tr th:only-of-type {\n",
       "        vertical-align: middle;\n",
       "    }\n",
       "\n",
       "    .dataframe tbody tr th {\n",
       "        vertical-align: top;\n",
       "    }\n",
       "\n",
       "    .dataframe thead th {\n",
       "        text-align: right;\n",
       "    }\n",
       "</style>\n",
       "<table border=\"1\" class=\"dataframe\">\n",
       "  <thead>\n",
       "    <tr style=\"text-align: right;\">\n",
       "      <th></th>\n",
       "      <th>alcohol</th>\n",
       "      <th>malic_acid</th>\n",
       "      <th>ash</th>\n",
       "      <th>alcalinity_of_ash</th>\n",
       "      <th>magnesium</th>\n",
       "      <th>total_phenols</th>\n",
       "      <th>flavanoids</th>\n",
       "      <th>nonflavanoid_phenols</th>\n",
       "      <th>proanthocyanins</th>\n",
       "      <th>color_intensity</th>\n",
       "      <th>hue</th>\n",
       "      <th>od280/od315_of_diluted_wines</th>\n",
       "      <th>proline</th>\n",
       "      <th>target</th>\n",
       "    </tr>\n",
       "  </thead>\n",
       "  <tbody>\n",
       "    <tr>\n",
       "      <th>0</th>\n",
       "      <td>14.23</td>\n",
       "      <td>1.71</td>\n",
       "      <td>2.43</td>\n",
       "      <td>15.6</td>\n",
       "      <td>127.0</td>\n",
       "      <td>2.80</td>\n",
       "      <td>3.06</td>\n",
       "      <td>0.28</td>\n",
       "      <td>2.29</td>\n",
       "      <td>5.64</td>\n",
       "      <td>1.04</td>\n",
       "      <td>3.92</td>\n",
       "      <td>1065.0</td>\n",
       "      <td>0</td>\n",
       "    </tr>\n",
       "    <tr>\n",
       "      <th>1</th>\n",
       "      <td>13.20</td>\n",
       "      <td>1.78</td>\n",
       "      <td>2.14</td>\n",
       "      <td>11.2</td>\n",
       "      <td>100.0</td>\n",
       "      <td>2.65</td>\n",
       "      <td>2.76</td>\n",
       "      <td>0.26</td>\n",
       "      <td>1.28</td>\n",
       "      <td>4.38</td>\n",
       "      <td>1.05</td>\n",
       "      <td>3.40</td>\n",
       "      <td>1050.0</td>\n",
       "      <td>0</td>\n",
       "    </tr>\n",
       "    <tr>\n",
       "      <th>2</th>\n",
       "      <td>13.16</td>\n",
       "      <td>2.36</td>\n",
       "      <td>2.67</td>\n",
       "      <td>18.6</td>\n",
       "      <td>101.0</td>\n",
       "      <td>2.80</td>\n",
       "      <td>3.24</td>\n",
       "      <td>0.30</td>\n",
       "      <td>2.81</td>\n",
       "      <td>5.68</td>\n",
       "      <td>1.03</td>\n",
       "      <td>3.17</td>\n",
       "      <td>1185.0</td>\n",
       "      <td>0</td>\n",
       "    </tr>\n",
       "    <tr>\n",
       "      <th>3</th>\n",
       "      <td>14.37</td>\n",
       "      <td>1.95</td>\n",
       "      <td>2.50</td>\n",
       "      <td>16.8</td>\n",
       "      <td>113.0</td>\n",
       "      <td>3.85</td>\n",
       "      <td>3.49</td>\n",
       "      <td>0.24</td>\n",
       "      <td>2.18</td>\n",
       "      <td>7.80</td>\n",
       "      <td>0.86</td>\n",
       "      <td>3.45</td>\n",
       "      <td>1480.0</td>\n",
       "      <td>0</td>\n",
       "    </tr>\n",
       "    <tr>\n",
       "      <th>4</th>\n",
       "      <td>13.24</td>\n",
       "      <td>2.59</td>\n",
       "      <td>2.87</td>\n",
       "      <td>21.0</td>\n",
       "      <td>118.0</td>\n",
       "      <td>2.80</td>\n",
       "      <td>2.69</td>\n",
       "      <td>0.39</td>\n",
       "      <td>1.82</td>\n",
       "      <td>4.32</td>\n",
       "      <td>1.04</td>\n",
       "      <td>2.93</td>\n",
       "      <td>735.0</td>\n",
       "      <td>0</td>\n",
       "    </tr>\n",
       "  </tbody>\n",
       "</table>\n",
       "</div>"
      ],
      "text/plain": [
       "   alcohol  malic_acid   ash  alcalinity_of_ash  magnesium  total_phenols  \\\n",
       "0    14.23        1.71  2.43               15.6      127.0           2.80   \n",
       "1    13.20        1.78  2.14               11.2      100.0           2.65   \n",
       "2    13.16        2.36  2.67               18.6      101.0           2.80   \n",
       "3    14.37        1.95  2.50               16.8      113.0           3.85   \n",
       "4    13.24        2.59  2.87               21.0      118.0           2.80   \n",
       "\n",
       "   flavanoids  nonflavanoid_phenols  proanthocyanins  color_intensity   hue  \\\n",
       "0        3.06                  0.28             2.29             5.64  1.04   \n",
       "1        2.76                  0.26             1.28             4.38  1.05   \n",
       "2        3.24                  0.30             2.81             5.68  1.03   \n",
       "3        3.49                  0.24             2.18             7.80  0.86   \n",
       "4        2.69                  0.39             1.82             4.32  1.04   \n",
       "\n",
       "   od280/od315_of_diluted_wines  proline  target  \n",
       "0                          3.92   1065.0       0  \n",
       "1                          3.40   1050.0       0  \n",
       "2                          3.17   1185.0       0  \n",
       "3                          3.45   1480.0       0  \n",
       "4                          2.93    735.0       0  "
      ]
     },
     "execution_count": 6,
     "metadata": {},
     "output_type": "execute_result"
    }
   ],
   "source": [
    "df.head()"
   ]
  },
  {
   "cell_type": "code",
   "execution_count": 7,
   "id": "cb4a0144",
   "metadata": {
    "execution": {
     "iopub.execute_input": "2022-04-19T14:00:11.920038Z",
     "iopub.status.busy": "2022-04-19T14:00:11.919510Z",
     "iopub.status.idle": "2022-04-19T14:00:11.992435Z",
     "shell.execute_reply": "2022-04-19T14:00:11.991586Z"
    },
    "papermill": {
     "duration": 0.090074,
     "end_time": "2022-04-19T14:00:11.995004",
     "exception": false,
     "start_time": "2022-04-19T14:00:11.904930",
     "status": "completed"
    },
    "tags": []
   },
   "outputs": [],
   "source": [
    "from sklearn.model_selection import train_test_split\n",
    "X_train, X_test, y_train, y_test = train_test_split(df_input,df.target, test_size=0.2)"
   ]
  },
  {
   "cell_type": "code",
   "execution_count": 8,
   "id": "0ca61356",
   "metadata": {
    "execution": {
     "iopub.execute_input": "2022-04-19T14:00:12.024117Z",
     "iopub.status.busy": "2022-04-19T14:00:12.023463Z",
     "iopub.status.idle": "2022-04-19T14:00:12.038567Z",
     "shell.execute_reply": "2022-04-19T14:00:12.037780Z"
    },
    "papermill": {
     "duration": 0.032118,
     "end_time": "2022-04-19T14:00:12.040623",
     "exception": false,
     "start_time": "2022-04-19T14:00:12.008505",
     "status": "completed"
    },
    "tags": []
   },
   "outputs": [
    {
     "data": {
      "text/plain": [
       "1.0"
      ]
     },
     "execution_count": 8,
     "metadata": {},
     "output_type": "execute_result"
    }
   ],
   "source": [
    "from sklearn.naive_bayes import GaussianNB, MultinomialNB\n",
    "\n",
    "model_gnb = GaussianNB()\n",
    "model_gnb.fit(X_train,y_train)\n",
    "model_gnb.score(X_test,y_test)"
   ]
  },
  {
   "cell_type": "code",
   "execution_count": 9,
   "id": "e545590a",
   "metadata": {
    "execution": {
     "iopub.execute_input": "2022-04-19T14:00:12.070226Z",
     "iopub.status.busy": "2022-04-19T14:00:12.069450Z",
     "iopub.status.idle": "2022-04-19T14:00:12.085788Z",
     "shell.execute_reply": "2022-04-19T14:00:12.085035Z"
    },
    "papermill": {
     "duration": 0.033372,
     "end_time": "2022-04-19T14:00:12.087702",
     "exception": false,
     "start_time": "2022-04-19T14:00:12.054330",
     "status": "completed"
    },
    "tags": []
   },
   "outputs": [
    {
     "data": {
      "text/plain": [
       "0.8611111111111112"
      ]
     },
     "execution_count": 9,
     "metadata": {},
     "output_type": "execute_result"
    }
   ],
   "source": [
    "model_mnb = MultinomialNB()\n",
    "model_mnb.fit(X_train,y_train)\n",
    "model_mnb.score(X_test,y_test)"
   ]
  },
  {
   "cell_type": "markdown",
   "id": "0692ae57",
   "metadata": {
    "papermill": {
     "duration": 0.013574,
     "end_time": "2022-04-19T14:00:12.115720",
     "exception": false,
     "start_time": "2022-04-19T14:00:12.102146",
     "status": "completed"
    },
    "tags": []
   },
   "source": [
    "**On analyzing the above result we found that the GaussianNB model performs best than the MultinomialNB in this case....**"
   ]
  }
 ],
 "metadata": {
  "kernelspec": {
   "display_name": "Python 3",
   "language": "python",
   "name": "python3"
  },
  "language_info": {
   "codemirror_mode": {
    "name": "ipython",
    "version": 3
   },
   "file_extension": ".py",
   "mimetype": "text/x-python",
   "name": "python",
   "nbconvert_exporter": "python",
   "pygments_lexer": "ipython3",
   "version": "3.7.12"
  },
  "papermill": {
   "default_parameters": {},
   "duration": 12.931741,
   "end_time": "2022-04-19T14:00:12.849692",
   "environment_variables": {},
   "exception": null,
   "input_path": "__notebook__.ipynb",
   "output_path": "__notebook__.ipynb",
   "parameters": {},
   "start_time": "2022-04-19T13:59:59.917951",
   "version": "2.3.4"
  }
 },
 "nbformat": 4,
 "nbformat_minor": 5
}
